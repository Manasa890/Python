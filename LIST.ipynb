{
  "nbformat": 4,
  "nbformat_minor": 0,
  "metadata": {
    "colab": {
      "name": "LIST.ipynb",
      "provenance": [],
      "authorship_tag": "ABX9TyMgQ2ouiKJ/b4uY9AH9gkYN",
      "include_colab_link": true
    },
    "kernelspec": {
      "name": "python3",
      "display_name": "Python 3"
    },
    "language_info": {
      "name": "python"
    }
  },
  "cells": [
    {
      "cell_type": "markdown",
      "metadata": {
        "id": "view-in-github",
        "colab_type": "text"
      },
      "source": [
        "<a href=\"https://colab.research.google.com/github/Manasa890/python/blob/main/LIST.ipynb\" target=\"_parent\"><img src=\"https://colab.research.google.com/assets/colab-badge.svg\" alt=\"Open In Colab\"/></a>"
      ]
    },
    {
      "cell_type": "code",
      "execution_count": null,
      "metadata": {
        "colab": {
          "base_uri": "https://localhost:8080/"
        },
        "id": "L4LxxUUhWO2d",
        "outputId": "5d6f7bd5-8bbc-4793-e95a-b9b11f03446c"
      },
      "outputs": [
        {
          "output_type": "stream",
          "name": "stdout",
          "text": [
            "['Mango', 'Banana', 'pineapple', 'papaya', 'dragon fruit']\n"
          ]
        }
      ],
      "source": [
        "Fruit=['Mango', 'Banana', 'pineapple', 'papaya', 'dragon fruit']\n",
        "print(Fruit)"
      ]
    },
    {
      "cell_type": "code",
      "source": [
        "Fruit=['Mango', 'Banana', 'pineapple', 'papaya', 'dragon fruit']\n",
        "print(Fruit)\n",
        "print(Fruit[0])"
      ],
      "metadata": {
        "colab": {
          "base_uri": "https://localhost:8080/"
        },
        "id": "T-IU38HkXEv5",
        "outputId": "cbb49b29-91fb-4032-b999-352c604a6723"
      },
      "execution_count": null,
      "outputs": [
        {
          "output_type": "stream",
          "name": "stdout",
          "text": [
            "['Mango', 'Banana', 'pineapple', 'papaya', 'dragon fruit']\n",
            "Mango\n"
          ]
        }
      ]
    },
    {
      "cell_type": "code",
      "source": [
        "Fruit=['Mango', 'Banana', 'pineapple', 'papaya', 'dragon fruit']\n",
        "print(Fruit)\n",
        "print(Fruit[1])"
      ],
      "metadata": {
        "colab": {
          "base_uri": "https://localhost:8080/"
        },
        "id": "953WqSGZXgHo",
        "outputId": "38884842-138c-4735-97af-f761399cee3b"
      },
      "execution_count": null,
      "outputs": [
        {
          "output_type": "stream",
          "name": "stdout",
          "text": [
            "['Mango', 'Banana', 'pineapple', 'papaya', 'dragon fruit']\n",
            "Banana\n"
          ]
        }
      ]
    },
    {
      "cell_type": "code",
      "source": [
        "Fruit=['Mango', 'Banana', 'pineapple', 'papaya', 'dragon fruit']\n",
        "print(Fruit)\n",
        "print(Fruit[0])\n",
        "print(Fruit[1])\n",
        "print(Fruit[2])\n",
        "print(Fruit[3])\n",
        "print(Fruit[4])"
      ],
      "metadata": {
        "colab": {
          "base_uri": "https://localhost:8080/"
        },
        "id": "K7WUTZ5HXoeo",
        "outputId": "9cdd9e0e-aa1c-4387-ba64-e1712a869c1d"
      },
      "execution_count": null,
      "outputs": [
        {
          "output_type": "stream",
          "name": "stdout",
          "text": [
            "['Mango', 'Banana', 'pineapple', 'papaya', 'dragon fruit']\n",
            "Mango\n",
            "Banana\n",
            "pineapple\n",
            "papaya\n",
            "dragon fruit\n"
          ]
        }
      ]
    },
    {
      "cell_type": "code",
      "source": [
        "Fruit=['Mango', 'Banana', 'pineapple', 'papaya', 'dragon fruit']\n",
        "print(Fruit)\n",
        "print(Fruit[0:2])"
      ],
      "metadata": {
        "colab": {
          "base_uri": "https://localhost:8080/"
        },
        "id": "N-N3DLztXsv4",
        "outputId": "4e960321-6046-402e-ff13-2281775c82ed"
      },
      "execution_count": null,
      "outputs": [
        {
          "output_type": "stream",
          "name": "stdout",
          "text": [
            "['Mango', 'Banana', 'pineapple', 'papaya', 'dragon fruit']\n",
            "['Mango', 'Banana']\n"
          ]
        }
      ]
    },
    {
      "cell_type": "code",
      "source": [
        "Fruit=['Mango', 'Banana', 'pineapple', 'papaya', 'dragon fruit']\n",
        "print(Fruit)\n",
        "print(Fruit[0:2])\n",
        "print(Fruit[:2])\n",
        "print(Fruit[1:2])\n",
        "print(Fruit[1:])\n",
        "print(Fruit[2:])\n",
        "print(Fruit[0:3])"
      ],
      "metadata": {
        "colab": {
          "base_uri": "https://localhost:8080/"
        },
        "id": "lWFfgnLLZDgg",
        "outputId": "0e6f8eab-f6fb-421c-e020-193310b29fbf"
      },
      "execution_count": null,
      "outputs": [
        {
          "output_type": "stream",
          "name": "stdout",
          "text": [
            "['Mango', 'Banana', 'pineapple', 'papaya', 'dragon fruit']\n",
            "['Mango', 'Banana']\n",
            "['Mango', 'Banana']\n",
            "['Banana']\n",
            "['Banana', 'pineapple', 'papaya', 'dragon fruit']\n",
            "['pineapple', 'papaya', 'dragon fruit']\n",
            "['Mango', 'Banana', 'pineapple']\n"
          ]
        }
      ]
    },
    {
      "cell_type": "code",
      "source": [
        "# Append\n",
        "Fruit=['Mango', 'Banana', 'pineapple', 'papaya', 'dragon fruit']\n",
        "print(Fruit)\n",
        "Fruit.append(\"jack fruit\")\n",
        "print(Fruit)\n"
      ],
      "metadata": {
        "colab": {
          "base_uri": "https://localhost:8080/"
        },
        "id": "BkwYgOj0Z6Gg",
        "outputId": "125ec03b-7d30-4b10-ad62-0c54b0d6a32a"
      },
      "execution_count": 29,
      "outputs": [
        {
          "output_type": "stream",
          "name": "stdout",
          "text": [
            "['Mango', 'Banana', 'pineapple', 'papaya', 'dragon fruit']\n",
            "['Mango', 'Banana', 'pineapple', 'papaya', 'dragon fruit', 'jack fruit']\n"
          ]
        }
      ]
    },
    {
      "cell_type": "code",
      "source": [
        "# Insert\n",
        "Fruit=['Mango', 'Banana', 'pineapple', 'papaya', 'dragon fruit']\n",
        "print(Fruit)\n",
        "Fruit.insert(2,\"jack fruit\")\n",
        "print(Fruit)\n"
      ],
      "metadata": {
        "colab": {
          "base_uri": "https://localhost:8080/"
        },
        "id": "wONl3pBXbu9w",
        "outputId": "c2def8a7-3b93-4ac8-c238-b406e889bb1a"
      },
      "execution_count": 35,
      "outputs": [
        {
          "output_type": "stream",
          "name": "stdout",
          "text": [
            "['Mango', 'Banana', 'pineapple', 'papaya', 'dragon fruit']\n",
            "['Mango', 'Banana', 'jack fruit', 'pineapple', 'papaya', 'dragon fruit']\n"
          ]
        }
      ]
    },
    {
      "cell_type": "code",
      "source": [
        "# Extend\n",
        "Fruit=['Mango', 'Banana', 'pineapple', 'papaya', 'dragon fruit']\n",
        "print(Fruit)\n",
        "New:['Litchi', 'pomogranate', 'coconut']\n",
        "Fruit(\"New\")\n",
        "Fruit.extend(New)\n",
        "print(Fruit)"
      ],
      "metadata": {
        "colab": {
          "base_uri": "https://localhost:8080/",
          "height": 252
        },
        "id": "-Y73EXvOcPvZ",
        "outputId": "79a89d8a-1ebc-4add-b10f-4d28bb0d355e"
      },
      "execution_count": 41,
      "outputs": [
        {
          "output_type": "stream",
          "name": "stdout",
          "text": [
            "['Mango', 'Banana', 'pineapple', 'papaya', 'dragon fruit']\n"
          ]
        },
        {
          "output_type": "error",
          "ename": "TypeError",
          "evalue": "ignored",
          "traceback": [
            "\u001b[0;31m---------------------------------------------------------------------------\u001b[0m",
            "\u001b[0;31mTypeError\u001b[0m                                 Traceback (most recent call last)",
            "\u001b[0;32m<ipython-input-41-0202acb38f9a>\u001b[0m in \u001b[0;36m<module>\u001b[0;34m()\u001b[0m\n\u001b[1;32m      3\u001b[0m \u001b[0mprint\u001b[0m\u001b[0;34m(\u001b[0m\u001b[0mFruit\u001b[0m\u001b[0;34m)\u001b[0m\u001b[0;34m\u001b[0m\u001b[0;34m\u001b[0m\u001b[0m\n\u001b[1;32m      4\u001b[0m \u001b[0mNew\u001b[0m\u001b[0;34m:\u001b[0m\u001b[0;34m[\u001b[0m\u001b[0;34m'Litchi'\u001b[0m\u001b[0;34m,\u001b[0m \u001b[0;34m'pomogranate'\u001b[0m\u001b[0;34m,\u001b[0m \u001b[0;34m'coconut'\u001b[0m\u001b[0;34m]\u001b[0m\u001b[0;34m\u001b[0m\u001b[0;34m\u001b[0m\u001b[0m\n\u001b[0;32m----> 5\u001b[0;31m \u001b[0mFruit\u001b[0m\u001b[0;34m(\u001b[0m\u001b[0;34m\"New\"\u001b[0m\u001b[0;34m)\u001b[0m\u001b[0;34m\u001b[0m\u001b[0;34m\u001b[0m\u001b[0m\n\u001b[0m\u001b[1;32m      6\u001b[0m \u001b[0mFruit\u001b[0m\u001b[0;34m.\u001b[0m\u001b[0mextend\u001b[0m\u001b[0;34m(\u001b[0m\u001b[0mNew\u001b[0m\u001b[0;34m)\u001b[0m\u001b[0;34m\u001b[0m\u001b[0;34m\u001b[0m\u001b[0m\n\u001b[1;32m      7\u001b[0m \u001b[0mprint\u001b[0m\u001b[0;34m(\u001b[0m\u001b[0mFruit\u001b[0m\u001b[0;34m)\u001b[0m\u001b[0;34m\u001b[0m\u001b[0;34m\u001b[0m\u001b[0m\n",
            "\u001b[0;31mTypeError\u001b[0m: 'list' object is not callable"
          ]
        }
      ]
    },
    {
      "cell_type": "code",
      "source": [
        "# Remove\n",
        "Fruit=['Mango', 'Banana', 'pineapple', 'papaya', 'dragon fruit']\n",
        "print(Fruit)\n",
        "Fruit.remove(\"dragon fruit\")\n",
        "print(Fruit)\n",
        "\n"
      ],
      "metadata": {
        "colab": {
          "base_uri": "https://localhost:8080/"
        },
        "id": "IWcENf8zdqpQ",
        "outputId": "9da3817e-18d6-4558-cbe0-9f43987e3b94"
      },
      "execution_count": 58,
      "outputs": [
        {
          "output_type": "stream",
          "name": "stdout",
          "text": [
            "['Mango', 'Banana', 'pineapple', 'papaya', 'dragon fruit']\n",
            "['Mango', 'Banana', 'pineapple', 'papaya']\n"
          ]
        }
      ]
    },
    {
      "cell_type": "code",
      "source": [
        "# Pop by index\n",
        "Fruit=['Mango', 'Banana', 'pineapple', 'papaya', 'dragon fruit']\n",
        "print(Fruit)\n",
        "Fruit.pop(4)\n",
        "print(Fruit)"
      ],
      "metadata": {
        "colab": {
          "base_uri": "https://localhost:8080/"
        },
        "id": "LGuMFvoCdtSI",
        "outputId": "88c928a5-5531-4187-c4d1-188adca5e06a"
      },
      "execution_count": 50,
      "outputs": [
        {
          "output_type": "stream",
          "name": "stdout",
          "text": [
            "['Mango', 'Banana', 'pineapple', 'papaya', 'dragon fruit']\n",
            "['Mango', 'Banana', 'pineapple', 'papaya']\n"
          ]
        }
      ]
    },
    {
      "cell_type": "code",
      "source": [
        "# Delete\n",
        "Fruit=['Mango', 'Banana', 'pineapple', 'papaya', 'dragon fruit']\n",
        "print(Fruit)\n",
        "del Fruit[3]\n",
        "print(Fruit)\n"
      ],
      "metadata": {
        "colab": {
          "base_uri": "https://localhost:8080/"
        },
        "id": "dJ17KDIjfdOK",
        "outputId": "1680075b-4074-4c44-d4f0-c61fcfcf6a79"
      },
      "execution_count": 59,
      "outputs": [
        {
          "output_type": "stream",
          "name": "stdout",
          "text": [
            "['Mango', 'Banana', 'pineapple', 'papaya', 'dragon fruit']\n",
            "['Mango', 'Banana', 'pineapple', 'dragon fruit']\n"
          ]
        }
      ]
    },
    {
      "cell_type": "code",
      "source": [
        "# Clear the list\n",
        "Fruit=['Mango', 'Banana', 'pineapple', 'papaya', 'dragon fruit']\n",
        "print(Fruit)\n",
        "Fruit.clear()\n",
        "print(Fruit)"
      ],
      "metadata": {
        "colab": {
          "base_uri": "https://localhost:8080/"
        },
        "id": "lwyiJrxEgLzQ",
        "outputId": "db7a5fec-c726-427a-efa3-a7181b9f75bb"
      },
      "execution_count": 60,
      "outputs": [
        {
          "output_type": "stream",
          "name": "stdout",
          "text": [
            "['Mango', 'Banana', 'pineapple', 'papaya', 'dragon fruit']\n",
            "[]\n"
          ]
        }
      ]
    },
    {
      "cell_type": "code",
      "source": [
        "# Sorting\n",
        "Num=[10,30,50,70,90]\n",
        "Num.sort()\n",
        "print(Num)\n"
      ],
      "metadata": {
        "colab": {
          "base_uri": "https://localhost:8080/"
        },
        "id": "pWN4nC3rhn7b",
        "outputId": "be0a3815-ab16-413a-d564-e7f798a70d55"
      },
      "execution_count": 68,
      "outputs": [
        {
          "output_type": "stream",
          "name": "stdout",
          "text": [
            "[10, 30, 50, 70, 90]\n"
          ]
        }
      ]
    },
    {
      "cell_type": "code",
      "source": [
        "# Descending order\n",
        "Alphabet=['Q','O','P','D','M','Y']\n",
        "Alphabet.sort(reverse =True)\n",
        "print(Alphabet)"
      ],
      "metadata": {
        "colab": {
          "base_uri": "https://localhost:8080/"
        },
        "id": "oGBx9jp8iro0",
        "outputId": "3592658f-1be5-4574-937f-4abf78690dfc"
      },
      "execution_count": 80,
      "outputs": [
        {
          "output_type": "stream",
          "name": "stdout",
          "text": [
            "['Y', 'Q', 'P', 'O', 'M', 'D']\n"
          ]
        }
      ]
    },
    {
      "cell_type": "code",
      "source": [
        "# Descending order\n",
        "Number=[4,7,8,9,5,3]\n",
        "Number.sort(reverse =True)\n",
        "print(Number)"
      ],
      "metadata": {
        "colab": {
          "base_uri": "https://localhost:8080/"
        },
        "id": "C2cfEoMOj1jR",
        "outputId": "b38829f1-b333-45bb-8aa1-482a5aa3858d"
      },
      "execution_count": 79,
      "outputs": [
        {
          "output_type": "stream",
          "name": "stdout",
          "text": [
            "[9, 8, 7, 5, 4, 3]\n"
          ]
        }
      ]
    },
    {
      "cell_type": "code",
      "source": [
        "# Reverse\n",
        "Number=[45,78,32,56,90]\n",
        "Number.reverse()\n",
        "print(Number)"
      ],
      "metadata": {
        "colab": {
          "base_uri": "https://localhost:8080/"
        },
        "id": "sXIDaQkyk1i6",
        "outputId": "7a16a011-6792-4464-ef2d-23b85f44d179"
      },
      "execution_count": 86,
      "outputs": [
        {
          "output_type": "stream",
          "name": "stdout",
          "text": [
            "[90, 56, 32, 78, 45]\n"
          ]
        }
      ]
    },
    {
      "cell_type": "code",
      "source": [
        "# List length\n",
        "Alphabet=['Q','O','P','D','M','Y','R','Z','U']\n",
        "print(len(Alphabet))"
      ],
      "metadata": {
        "colab": {
          "base_uri": "https://localhost:8080/"
        },
        "id": "x3s9OdWfmnK7",
        "outputId": "3c90e50c-c767-4c9e-cd98-439c9d87a5d2"
      },
      "execution_count": 85,
      "outputs": [
        {
          "output_type": "stream",
          "name": "stdout",
          "text": [
            "9\n"
          ]
        }
      ]
    }
  ]
}