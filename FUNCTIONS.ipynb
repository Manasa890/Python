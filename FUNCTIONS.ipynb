{
  "nbformat": 4,
  "nbformat_minor": 0,
  "metadata": {
    "colab": {
      "name": "FUNCTIONS.ipynb",
      "provenance": [],
      "authorship_tag": "ABX9TyMdrBNc3kGVP0hLGh/EEBGy",
      "include_colab_link": true
    },
    "kernelspec": {
      "name": "python3",
      "display_name": "Python 3"
    },
    "language_info": {
      "name": "python"
    }
  },
  "cells": [
    {
      "cell_type": "markdown",
      "metadata": {
        "id": "view-in-github",
        "colab_type": "text"
      },
      "source": [
        "<a href=\"https://colab.research.google.com/github/Manasa890/python/blob/main/FUNCTIONS.ipynb\" target=\"_parent\"><img src=\"https://colab.research.google.com/assets/colab-badge.svg\" alt=\"Open In Colab\"/></a>"
      ]
    },
    {
      "cell_type": "code",
      "execution_count": 1,
      "metadata": {
        "colab": {
          "base_uri": "https://localhost:8080/"
        },
        "id": "uidMfshzUZZ0",
        "outputId": "e1068eaf-394f-4f19-f4f3-14b46730b58c"
      },
      "outputs": [
        {
          "output_type": "stream",
          "name": "stdout",
          "text": [
            "Hello Manasa, good morning\n"
          ]
        }
      ],
      "source": [
        "# Create a function\n",
        "def my_function(Name):\n",
        "  print(\"Hello \"+Name+\", good morning\")\n",
        "  \n",
        "my_function(\"Manasa\")"
      ]
    },
    {
      "cell_type": "code",
      "source": [
        "# Add Arguments\n",
        "def function(Name):\n",
        "  print(Name + \" Qualification\")\n",
        "\n",
        "function(\"MBA\")\n",
        "function(\"MSC\")\n",
        "function(\"MTech\")"
      ],
      "metadata": {
        "colab": {
          "base_uri": "https://localhost:8080/"
        },
        "id": "kkyqniiFWUbw",
        "outputId": "97d78513-4d3d-41eb-a0ad-f15edcd8e992"
      },
      "execution_count": null,
      "outputs": [
        {
          "output_type": "stream",
          "name": "stdout",
          "text": [
            "MBA Qualification\n",
            "MSC Qualification\n",
            "MTech Qualification\n"
          ]
        }
      ]
    },
    {
      "cell_type": "code",
      "source": [
        "# Using Multiple Arguments\n",
        "def function(Fruit1, Fruit2):\n",
        "  print(Fruit1+\" is the king of \"+Fruit2)\n",
        "function(\"Fruit1\", \"Fruit2\") "
      ],
      "metadata": {
        "colab": {
          "base_uri": "https://localhost:8080/"
        },
        "id": "6xhy1sVUYk4W",
        "outputId": "f48d8061-9832-4623-aec6-17a60b5a81b8"
      },
      "execution_count": null,
      "outputs": [
        {
          "output_type": "stream",
          "name": "stdout",
          "text": [
            "Fruit1 is the king of Fruit2\n"
          ]
        }
      ]
    },
    {
      "cell_type": "code",
      "source": [
        "# If the number of arguments is unknown, add a * before the parameter name:\n",
        "def function(*Name):\n",
        "  print(Name[0]+\" has good behaviour than \"+Name[1])\n",
        "function(\"Manasa\",\"Rithika\")"
      ],
      "metadata": {
        "colab": {
          "base_uri": "https://localhost:8080/"
        },
        "id": "ESIWOqvEa9z-",
        "outputId": "99f2ffa8-f2ce-437d-edd1-521b40e5756c"
      },
      "execution_count": null,
      "outputs": [
        {
          "output_type": "stream",
          "name": "stdout",
          "text": [
            "Manasa has good behaviour than Rithika\n"
          ]
        }
      ]
    },
    {
      "cell_type": "code",
      "source": [
        "# If the number of keyword arguments is unknown, add a double ** before the parameter name:\n",
        "def function(**kid):\n",
        "  print(\"Her last name is \" + kid[\"lname\"])\n",
        "\n",
        "function(fname = \"Manasa\", lname = \"Parvatham\")\n"
      ],
      "metadata": {
        "colab": {
          "base_uri": "https://localhost:8080/"
        },
        "id": "uBlD0EzteryD",
        "outputId": "84210093-95cd-4fde-eb88-9e5b309ca36a"
      },
      "execution_count": null,
      "outputs": [
        {
          "output_type": "stream",
          "name": "stdout",
          "text": [
            "Her last name is Parvatham\n"
          ]
        }
      ]
    },
    {
      "cell_type": "code",
      "source": [
        "# Dynamically Eligible for Voting\n",
        "def function(Age):\n",
        "  Age=int(input(\"Enter the Age\"))\n",
        "  if Age>=18:\n",
        "    print(\"Eligible for voting\")\n",
        "  else:\n",
        "    print(\"Not Eligible for voting\")\n",
        "function(\"Age\")"
      ],
      "metadata": {
        "colab": {
          "base_uri": "https://localhost:8080/"
        },
        "id": "CROvhkoOf5Q7",
        "outputId": "be7648d0-666f-40c0-9a5e-eabc5846fd30"
      },
      "execution_count": null,
      "outputs": [
        {
          "output_type": "stream",
          "name": "stdout",
          "text": [
            "Enter the Age 27\n",
            "Eligible for voting\n"
          ]
        }
      ]
    },
    {
      "cell_type": "code",
      "source": [
        "# Eligible for Voting (WITH ARGUMENT NO RETURN VALUE)\n",
        "def Vote(Name, Age, Gender):\n",
        "  print(\"Name:\" + Name)\n",
        "  print(\"Age:\" + Age)\n",
        "  print(\"Gender:\" + Gender)\n",
        "Vote(\"Manasa\", \"18\", \"Female\")\n",
        "  "
      ],
      "metadata": {
        "id": "9QS7o-ZbgDFZ",
        "colab": {
          "base_uri": "https://localhost:8080/"
        },
        "outputId": "3155211e-4f8c-457b-a2a6-1f69ada75b03"
      },
      "execution_count": 6,
      "outputs": [
        {
          "output_type": "stream",
          "name": "stdout",
          "text": [
            "Name:Manasa\n",
            "Age:18\n",
            "Gender:Female\n"
          ]
        }
      ]
    },
    {
      "cell_type": "code",
      "source": [
        "# Default Parameter\n",
        "def function(Food = \"Chicken\"):\n",
        "  print(\"My favourite food is \" + Food)\n",
        "function(\"Pav Bhaji\")\n",
        "function(\"Manchuria\")\n",
        "function()\n",
        "function(\"Biryani\")\n"
      ],
      "metadata": {
        "colab": {
          "base_uri": "https://localhost:8080/"
        },
        "id": "Jnx43ToVjtgW",
        "outputId": "6c641cff-106f-4bb3-b031-ab9d946a0f4c"
      },
      "execution_count": 7,
      "outputs": [
        {
          "output_type": "stream",
          "name": "stdout",
          "text": [
            "My favourite food is Pav Bhaji\n",
            "My favourite food is Manchuria\n",
            "My favourite food is Chicken\n",
            "My favourite food is Biryani\n"
          ]
        }
      ]
    },
    {
      "cell_type": "code",
      "source": [
        "# Passing a list as an argument\n",
        "def function(Colour):\n",
        "  for a in Colour:\n",
        "    print(a)\n",
        "Colours=[\"Red\",\"Purple\", \"Green\"]\n",
        "function(Colours)"
      ],
      "metadata": {
        "colab": {
          "base_uri": "https://localhost:8080/"
        },
        "id": "roDSYu51lRb3",
        "outputId": "5620b712-b981-412d-d02a-e57f801aea7e"
      },
      "execution_count": 9,
      "outputs": [
        {
          "output_type": "stream",
          "name": "stdout",
          "text": [
            "Red\n",
            "Purple\n",
            "Green\n"
          ]
        }
      ]
    },
    {
      "cell_type": "code",
      "source": [
        "# Return Values\n",
        "def function(a):\n",
        "  return 10 * a\n",
        "print(function(9))\n",
        "print(function(8))\n",
        "print(function(2))\n"
      ],
      "metadata": {
        "colab": {
          "base_uri": "https://localhost:8080/"
        },
        "id": "8V2GVybRmfbo",
        "outputId": "e8e602e7-c5d6-4af7-e485-2e1aeab095b6"
      },
      "execution_count": 15,
      "outputs": [
        {
          "output_type": "stream",
          "name": "stdout",
          "text": [
            "90\n",
            "80\n",
            "20\n"
          ]
        }
      ]
    },
    {
      "cell_type": "code",
      "source": [
        ""
      ],
      "metadata": {
        "id": "ZWJG83Eynn66"
      },
      "execution_count": null,
      "outputs": []
    }
  ]
}