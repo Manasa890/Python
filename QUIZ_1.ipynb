{
  "nbformat": 4,
  "nbformat_minor": 0,
  "metadata": {
    "colab": {
      "name": "QUIZ 1.ipynb",
      "provenance": [],
      "authorship_tag": "ABX9TyP8eZ2aNcoe5Y12zll2JyQw",
      "include_colab_link": true
    },
    "kernelspec": {
      "name": "python3",
      "display_name": "Python 3"
    },
    "language_info": {
      "name": "python"
    }
  },
  "cells": [
    {
      "cell_type": "markdown",
      "metadata": {
        "id": "view-in-github",
        "colab_type": "text"
      },
      "source": [
        "<a href=\"https://colab.research.google.com/github/Manasa890/python/blob/main/QUIZ_1.ipynb\" target=\"_parent\"><img src=\"https://colab.research.google.com/assets/colab-badge.svg\" alt=\"Open In Colab\"/></a>"
      ]
    },
    {
      "cell_type": "code",
      "execution_count": 3,
      "metadata": {
        "id": "SQHddk8usZeF",
        "colab": {
          "base_uri": "https://localhost:8080/"
        },
        "outputId": "60397df7-3c08-4fda-8ec6-4e25de9978f9"
      },
      "outputs": [
        {
          "output_type": "stream",
          "name": "stdout",
          "text": [
            "5\n"
          ]
        }
      ],
      "source": [
        "# Largest of three numbers\n",
        "a=5\n",
        "b=3\n",
        "c=2\n",
        "if a>b and a>c:\n",
        "    print(\"5\")\n",
        "elif b>a and b>c:\n",
        "    print(\"3\")\n",
        "else:\n",
        "    print(\"2\")"
      ]
    },
    {
      "cell_type": "code",
      "source": [
        "# Square root \n",
        "a=1\n",
        "b=2\n",
        "print(\"2.0\")"
      ],
      "metadata": {
        "colab": {
          "base_uri": "https://localhost:8080/"
        },
        "id": "AGfd7p3mvLBj",
        "outputId": "293224e6-961a-44b0-b797-c84c9dae92da"
      },
      "execution_count": 5,
      "outputs": [
        {
          "output_type": "stream",
          "name": "stdout",
          "text": [
            "2.0\n"
          ]
        }
      ]
    },
    {
      "cell_type": "code",
      "source": [
        "# List of fruits add Black\n",
        "Rainbow = ['Red', 'Orange', 'Yellow', 'Green'] \n",
        "Rainbow.insert(3,'Black')\n",
        "print(Rainbow)"
      ],
      "metadata": {
        "colab": {
          "base_uri": "https://localhost:8080/"
        },
        "id": "habUIDKFvuET",
        "outputId": "fe6daa88-1b04-4820-cb75-1cbb6a4e3d50"
      },
      "execution_count": 7,
      "outputs": [
        {
          "output_type": "stream",
          "name": "stdout",
          "text": [
            "['Red', 'Orange', 'Yellow', 'Black', 'Green']\n"
          ]
        }
      ]
    },
    {
      "cell_type": "code",
      "source": [
        "# Swapping of two numbers\n",
        "a=2\n",
        "b=3\n",
        "temp=a\n",
        "a=b\n",
        "b=temp\n",
        "print('Result=',a,b)"
      ],
      "metadata": {
        "colab": {
          "base_uri": "https://localhost:8080/"
        },
        "id": "raQcWg9rwwzq",
        "outputId": "0ed518c5-1bf2-49ea-ca9a-788361d6b7d2"
      },
      "execution_count": 13,
      "outputs": [
        {
          "output_type": "stream",
          "name": "stdout",
          "text": [
            "Result= 3 2\n"
          ]
        }
      ]
    },
    {
      "cell_type": "code",
      "source": [
        ""
      ],
      "metadata": {
        "id": "AkwKaOu-yIqR"
      },
      "execution_count": null,
      "outputs": []
    }
  ]
}