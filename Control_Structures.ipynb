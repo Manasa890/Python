{
  "nbformat": 4,
  "nbformat_minor": 0,
  "metadata": {
    "colab": {
      "name": "Control Structures.ipynb",
      "provenance": [],
      "collapsed_sections": [],
      "authorship_tag": "ABX9TyO3Llj8C0oYTdrWuodsMiH+",
      "include_colab_link": true
    },
    "kernelspec": {
      "name": "python3",
      "display_name": "Python 3"
    },
    "language_info": {
      "name": "python"
    }
  },
  "cells": [
    {
      "cell_type": "markdown",
      "metadata": {
        "id": "view-in-github",
        "colab_type": "text"
      },
      "source": [
        "<a href=\"https://colab.research.google.com/github/Manasa890/python/blob/main/Control_Structures.ipynb\" target=\"_parent\"><img src=\"https://colab.research.google.com/assets/colab-badge.svg\" alt=\"Open In Colab\"/></a>"
      ]
    },
    {
      "cell_type": "code",
      "execution_count": null,
      "metadata": {
        "colab": {
          "base_uri": "https://localhost:8080/"
        },
        "id": "WtEsSTyxOu4S",
        "outputId": "42e86d04-a080-432e-b888-13f41a530f69"
      },
      "outputs": [
        {
          "output_type": "stream",
          "name": "stdout",
          "text": [
            "Enter the first side:34\n",
            "Enter the second side: 34\n",
            "Enter the third side: 34\n",
            "The triangle is equilateral:\n"
          ]
        }
      ],
      "source": [
        "## Check whether the triangle is equilateral or isosceles or scalene\n",
        "a=int(input(\"Enter the first side:\"))\n",
        "b=int(input(\"Enter the second side:\"))\n",
        "c=int(input(\"Enter the third side:\"))\n",
        "if a==b==c:\n",
        "      print(\"The triangle is equilateral:\")\n",
        "elif a>b or b==c:\n",
        "      print(\"The triangle is isosceles:\")\n",
        "else:\n",
        "      print(\"The triangle is scalene:\")"
      ]
    },
    {
      "cell_type": "code",
      "source": [
        "## Leap year\n",
        "a=int(input(\"Enter the year:\"))\n",
        "if a%400==0 and a%d==0:\n",
        "    print(\"Leap year:\")\n",
        "else: \n",
        "    print(\"Not leap year:\")"
      ],
      "metadata": {
        "colab": {
          "base_uri": "https://localhost:8080/"
        },
        "id": "Le24geB7RZfg",
        "outputId": "3adc056c-4f98-4c18-f3a4-cb20899e11ce"
      },
      "execution_count": null,
      "outputs": [
        {
          "output_type": "stream",
          "name": "stdout",
          "text": [
            "Enter the year:2000\n",
            "Leap year:\n"
          ]
        }
      ]
    },
    {
      "cell_type": "code",
      "source": [
        "## Find minimum numbers among three numbers\n",
        "import math\n",
        "a=int(input(\"Enter the first number:\"))\n",
        "b=int(input(\"Enter the second number:\"))\n",
        "c=int(input(\"Enter the third number:\"))\n",
        "if a<b and a<c:\n",
        "      print(\"a is minimum:\")\n",
        "elif b<a and b>c:\n",
        "      print(\"b is minimum:\")\n",
        "else:\n",
        "      print(\"c is minimum:\")"
      ],
      "metadata": {
        "colab": {
          "base_uri": "https://localhost:8080/"
        },
        "id": "EchR96AHUJE3",
        "outputId": "22d98a59-8383-49c0-fd47-cb19db1bdf59"
      },
      "execution_count": null,
      "outputs": [
        {
          "output_type": "stream",
          "name": "stdout",
          "text": [
            "Enter the first number: 35\n",
            "Enter the second number: 68\n",
            "Enter the third number:  20\n",
            "c is minimum:\n"
          ]
        }
      ]
    },
    {
      "cell_type": "code",
      "source": [
        "## Check whether the number is divisible by 5 and 11 or not\n",
        "a=int(input(\"Enter the  number:\"))\n",
        "if a%5==0 and a%11==0:\n",
        "    print(\"It is divisible:\")\n",
        "else: \n",
        "    print(\"It is not divisible:\")"
      ],
      "metadata": {
        "colab": {
          "base_uri": "https://localhost:8080/"
        },
        "id": "gX1EUgVVVXWn",
        "outputId": "f57f2dc9-96a7-4c60-a596-cc5e71eb3653"
      },
      "execution_count": null,
      "outputs": [
        {
          "output_type": "stream",
          "name": "stdout",
          "text": [
            "Enter the  number: 55\n",
            "It is divisible:\n"
          ]
        }
      ]
    },
    {
      "cell_type": "code",
      "source": [
        "## Roots of quadratic equation\n",
        "import cmath\n",
        "a=int(input(\"Enter a value:\"))\n",
        "b=int(input(\"Enter b value:\"))\n",
        "c=int(input(\"Enter c value:\"))\n",
        "d = (b**2) - (4*a*c)\n",
        "sol1 = (-b-cmath.sqrt(d))/(2*a)\n",
        "sol2 = (-b+cmath.sqrt(d))/(2*a)\n",
        "print('The solution are {0} and {1}'.format(sol1,sol2))"
      ],
      "metadata": {
        "id": "F3oIU846WMWP",
        "colab": {
          "base_uri": "https://localhost:8080/"
        },
        "outputId": "66c04ca5-8c51-4910-9501-86504d99f7c6"
      },
      "execution_count": null,
      "outputs": [
        {
          "output_type": "stream",
          "name": "stdout",
          "text": [
            "Enter a value:1\n",
            "Enter b value:4\n",
            "Enter c value:3\n",
            "The solution are (-3+0j) and (-1+0j)\n"
          ]
        }
      ]
    },
    {
      "cell_type": "code",
      "source": [
        "## Factorial of a number\n",
        "num=int(input(\"enter the value\"))\n",
        "factorial=1\n",
        "if num < 0:\n",
        "   print(\"Sorry, factorial does not exist for negative numbers\")\n",
        "elif num == 0:\n",
        "   print(\"The factorial of 0 is 1\")\n",
        "else:\n",
        "   for i in range(1,num + 1):\n",
        "       factorial = factorial*i\n",
        "   print(\"The factorial of\",num,\"is\",factorial)"
      ],
      "metadata": {
        "colab": {
          "base_uri": "https://localhost:8080/"
        },
        "id": "_1QrkRdcQ5F3",
        "outputId": "87f09d3e-97ff-4379-9b6e-c8e208b8cf91"
      },
      "execution_count": null,
      "outputs": [
        {
          "output_type": "stream",
          "name": "stdout",
          "text": [
            "enter the value5\n",
            "The factorial of 5 is 120\n"
          ]
        }
      ]
    },
    {
      "cell_type": "code",
      "source": [
        "n=int(input(\"Enter number:\"))\n",
        "temp=n\n",
        "rev=0\n",
        "while(n>0):\n",
        "    dig=n%10\n",
        "    rev=rev*10+dig\n",
        "    n=n//10\n",
        "if(temp==rev):\n",
        "    print(\"The number is a palindrome\")\n",
        "else:\n",
        "    print(\"The number isn't a palindrome\")\n"
      ],
      "metadata": {
        "colab": {
          "base_uri": "https://localhost:8080/"
        },
        "id": "r8NYWrw6RB8Y",
        "outputId": "b858d797-1f43-407a-9c03-84981521ab1a"
      },
      "execution_count": null,
      "outputs": [
        {
          "output_type": "stream",
          "name": "stdout",
          "text": [
            "Enter number:1001\n",
            "The number is a palindrome\n"
          ]
        }
      ]
    },
    {
      "cell_type": "code",
      "source": [
        "## Perfect number or not\n",
        "n=int(input(\"enter the number\"))\n",
        "sum=0\n",
        "for i in range(1,n):\n",
        "  if n%i==0:\n",
        "    sum=sum+i\n",
        "if sum==n:\n",
        "  print(\"perfect number\")\n",
        "else:\n",
        "  print(\"not perfect number\")"
      ],
      "metadata": {
        "colab": {
          "base_uri": "https://localhost:8080/"
        },
        "id": "D_CiIF5GSoC3",
        "outputId": "385e5a5d-54a7-45ae-f511-66f556ed3021"
      },
      "execution_count": null,
      "outputs": [
        {
          "output_type": "stream",
          "name": "stdout",
          "text": [
            "enter the number6\n",
            "perfect number\n"
          ]
        }
      ]
    },
    {
      "cell_type": "code",
      "source": [
        "## Decimal to binary\n",
        "decimal = int(input(\"Enter a decimal number\"))\n",
        "binary = 0\n",
        "ctr = 0\n",
        "temp = decimal \n",
        "while(temp > 0):\n",
        "    binary = ((temp%2)*(10**ctr)) + binary\n",
        "    temp = int(temp/2)\n",
        "    ctr += 1      \n",
        "print(\"Binary of {x} is: {y}\".format(x=decimal,y=binary))"
      ],
      "metadata": {
        "colab": {
          "base_uri": "https://localhost:8080/"
        },
        "id": "fLO2EEVJVc4I",
        "outputId": "13ae25c3-b2aa-4e92-ba7b-41f18adb1632"
      },
      "execution_count": null,
      "outputs": [
        {
          "output_type": "stream",
          "name": "stdout",
          "text": [
            "Enter a decimal number225\n",
            "Binary of 225 is: 11100001\n"
          ]
        }
      ]
    }
  ]
}