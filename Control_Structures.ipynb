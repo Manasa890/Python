{
  "nbformat": 4,
  "nbformat_minor": 0,
  "metadata": {
    "colab": {
      "name": "Control Structures.ipynb",
      "provenance": [],
      "authorship_tag": "ABX9TyMYxxOAJrUrWVmC1iDAPKAp",
      "include_colab_link": true
    },
    "kernelspec": {
      "name": "python3",
      "display_name": "Python 3"
    },
    "language_info": {
      "name": "python"
    }
  },
  "cells": [
    {
      "cell_type": "markdown",
      "metadata": {
        "id": "view-in-github",
        "colab_type": "text"
      },
      "source": [
        "<a href=\"https://colab.research.google.com/github/Manasa890/python/blob/main/Control_Structures.ipynb\" target=\"_parent\"><img src=\"https://colab.research.google.com/assets/colab-badge.svg\" alt=\"Open In Colab\"/></a>"
      ]
    },
    {
      "cell_type": "code",
      "execution_count": null,
      "metadata": {
        "colab": {
          "base_uri": "https://localhost:8080/"
        },
        "id": "WtEsSTyxOu4S",
        "outputId": "42e86d04-a080-432e-b888-13f41a530f69"
      },
      "outputs": [
        {
          "output_type": "stream",
          "name": "stdout",
          "text": [
            "Enter the first side:34\n",
            "Enter the second side: 34\n",
            "Enter the third side: 34\n",
            "The triangle is equilateral:\n"
          ]
        }
      ],
      "source": [
        "## Check whether the triangle is equilateral or isosceles or scalene\n",
        "a=int(input(\"Enter the first side:\"))\n",
        "b=int(input(\"Enter the second side:\"))\n",
        "c=int(input(\"Enter the third side:\"))\n",
        "if a==b==c:\n",
        "      print(\"The triangle is equilateral:\")\n",
        "elif a>b or b==c:\n",
        "      print(\"The triangle is isosceles:\")\n",
        "else:\n",
        "      print(\"The triangle is scalene:\")"
      ]
    },
    {
      "cell_type": "code",
      "source": [
        "## Check whether a year is leap year or not"
      ],
      "metadata": {
        "id": "NkdHB73GO3Iw"
      },
      "execution_count": null,
      "outputs": []
    },
    {
      "cell_type": "code",
      "source": [
        "a=int(input(\"Enter the year:\"))\n",
        "if a%400==0 and a%d==0:\n",
        "    print(\"Leap year:\")\n",
        "else: \n",
        "    print(\"Not leap year:\")"
      ],
      "metadata": {
        "colab": {
          "base_uri": "https://localhost:8080/"
        },
        "id": "Le24geB7RZfg",
        "outputId": "294f942d-f335-45cb-b275-527cd5732d84"
      },
      "execution_count": null,
      "outputs": [
        {
          "output_type": "stream",
          "name": "stdout",
          "text": [
            "Enter the year: 2021\n",
            "Not leap year:\n"
          ]
        }
      ]
    },
    {
      "cell_type": "code",
      "source": [
        "## Find minimum numbers among three numbers\n",
        "import math\n",
        "a=int(input(\"Enter the first number:\"))\n",
        "b=int(input(\"Enter the second number:\"))\n",
        "c=int(input(\"Enter the third number:\"))\n",
        "if a<b and a<c:\n",
        "      print(\"a is minimum:\")\n",
        "elif b<a and b>c:\n",
        "      print(\"b is minimum:\")\n",
        "else:\n",
        "      print(\"c is minimum:\")"
      ],
      "metadata": {
        "colab": {
          "base_uri": "https://localhost:8080/"
        },
        "id": "EchR96AHUJE3",
        "outputId": "22d98a59-8383-49c0-fd47-cb19db1bdf59"
      },
      "execution_count": null,
      "outputs": [
        {
          "output_type": "stream",
          "name": "stdout",
          "text": [
            "Enter the first number: 35\n",
            "Enter the second number: 68\n",
            "Enter the third number:  20\n",
            "c is minimum:\n"
          ]
        }
      ]
    },
    {
      "cell_type": "code",
      "source": [
        "## Check whether the number is divisible by 5 and 11 or not\n",
        "a=int(input(\"Enter the  number:\"))\n",
        "if a%5==0 and a%11==0:\n",
        "    print(\"It is divisible:\")\n",
        "else: \n",
        "    print(\"It is not divisible:\")"
      ],
      "metadata": {
        "colab": {
          "base_uri": "https://localhost:8080/"
        },
        "id": "gX1EUgVVVXWn",
        "outputId": "f57f2dc9-96a7-4c60-a596-cc5e71eb3653"
      },
      "execution_count": null,
      "outputs": [
        {
          "output_type": "stream",
          "name": "stdout",
          "text": [
            "Enter the  number: 55\n",
            "It is divisible:\n"
          ]
        }
      ]
    },
    {
      "cell_type": "code",
      "source": [
        "## Roots of quadratic equation\n",
        "import math\n",
        "a=int(input(\"Enter a value:\"))\n",
        "b=int(input(\"Enter b value:\"))\n",
        "c=int(input(\"Enter c value:\"))\n"
      ],
      "metadata": {
        "id": "F3oIU846WMWP"
      },
      "execution_count": null,
      "outputs": []
    }
  ]
}