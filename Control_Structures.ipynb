{
  "nbformat": 4,
  "nbformat_minor": 0,
  "metadata": {
    "colab": {
      "name": "Control Structures.ipynb",
      "provenance": [],
      "authorship_tag": "ABX9TyPuXhf3z/8Ibne8V6OmA8rt",
      "include_colab_link": true
    },
    "kernelspec": {
      "name": "python3",
      "display_name": "Python 3"
    },
    "language_info": {
      "name": "python"
    }
  },
  "cells": [
    {
      "cell_type": "markdown",
      "metadata": {
        "id": "view-in-github",
        "colab_type": "text"
      },
      "source": [
        "<a href=\"https://colab.research.google.com/github/Manasa890/python/blob/main/Control_Structures.ipynb\" target=\"_parent\"><img src=\"https://colab.research.google.com/assets/colab-badge.svg\" alt=\"Open In Colab\"/></a>"
      ]
    },
    {
      "cell_type": "code",
      "execution_count": null,
      "metadata": {
        "colab": {
          "base_uri": "https://localhost:8080/"
        },
        "id": "8P7nQ8CxpfB5",
        "outputId": "69fa398e-a23d-4e5e-dfa5-8fcb317f89bf"
      },
      "outputs": [
        {
          "output_type": "stream",
          "name": "stdout",
          "text": [
            "you are eligible for voting\n",
            "you are not eligible for voting\n"
          ]
        }
      ],
      "source": [
        "a=20\n",
        "if a>=18:\n",
        "       print (\"you are eligible for voting\")\n",
        " # else:\n",
        "       print(\"you are not eligible for voting\")\n"
      ]
    },
    {
      "cell_type": "code",
      "source": [
        "a=20\n",
        "if a>=18:\n",
        "    print(\"you are eligible for voting\")\n",
        "else:\n",
        "    print(\"you are not eligible for voting\")"
      ],
      "metadata": {
        "colab": {
          "base_uri": "https://localhost:8080/"
        },
        "id": "CFmZDrrNrXW1",
        "outputId": "c39cc529-fe19-4a12-a298-75665792b2a2"
      },
      "execution_count": null,
      "outputs": [
        {
          "output_type": "stream",
          "name": "stdout",
          "text": [
            "you are eligible for voting\n"
          ]
        }
      ]
    },
    {
      "cell_type": "code",
      "source": [
        "a=int(input(\"Enter your age\"))\n",
        "if a>=18:\n",
        "          print(\"you are eligible for voting\")\n",
        "else:\n",
        "          print(\"you are not eligible \")"
      ],
      "metadata": {
        "colab": {
          "base_uri": "https://localhost:8080/"
        },
        "id": "W_FnkBcmsxA1",
        "outputId": "a5d178b0-0ced-40f8-ee5b-13d69ef99bc2"
      },
      "execution_count": null,
      "outputs": [
        {
          "output_type": "stream",
          "name": "stdout",
          "text": [
            "Enter your age 20\n",
            "you are eligible for voting\n"
          ]
        }
      ]
    },
    {
      "cell_type": "code",
      "source": [
        "a=int(input(\"Enter the number\"))\n",
        "b=int(input(\"Enter the number\"))\n",
        "c=int(input(\"Enter the number\"))\n",
        "if a>b and b>c:\n",
        "       print(\"a is greater\")\n",
        "elif b>a and b>c:\n",
        "       print (\"b is greater\")\n",
        "else:\n",
        "       print (\"c is greater\")"
      ],
      "metadata": {
        "colab": {
          "base_uri": "https://localhost:8080/"
        },
        "id": "Yc1js8BPthtc",
        "outputId": "52049444-0515-4881-e179-94b233cc567e"
      },
      "execution_count": null,
      "outputs": [
        {
          "output_type": "stream",
          "name": "stdout",
          "text": [
            "Enter the number 90\n",
            "Enter the number 60\n",
            "Enter the number 40\n",
            "a is greater\n"
          ]
        }
      ]
    },
    {
      "cell_type": "code",
      "source": [
        "a=int(input(\"Enter the number\"))\n",
        "b=int(input(\"Enter the number\"))\n",
        "c=int(input(\"Enter the number\"))\n",
        "d=int(input(\"Enter the number\"))\n",
        "e=int(input(\"Enter the number\"))\n",
        "if a>b and a>c and a>d and a>e: \n",
        "        print(\"a is greater\")\n",
        "elif b>a and b>c and b>e and b>d:\n",
        "        print(\"b is greater\") \n",
        "elif c>a and c>b and c>d and c>e:\n",
        "        print(\"c is greater\")\n",
        "elif d>a and d>b and d>c and d>e:\n",
        "        print (\"d is greater\")\n",
        "else:\n",
        "        print (\"e is greater\")\n"
      ],
      "metadata": {
        "colab": {
          "base_uri": "https://localhost:8080/"
        },
        "id": "QfMJWihkvWt7",
        "outputId": "242726d0-e096-412c-b5d6-9e6a0e1f6d8b"
      },
      "execution_count": 43,
      "outputs": [
        {
          "output_type": "stream",
          "name": "stdout",
          "text": [
            "Enter the number 40\n",
            "Enter the number 80\n",
            "Enter the number 30\n",
            "Enter the number 90\n",
            "Enter the number 20\n",
            "d is greater\n"
          ]
        }
      ]
    },
    {
      "cell_type": "code",
      "source": [
        "i=1\n",
        "for i in range (1,100):\n",
        "  if i%2==0:\n",
        "     print(\"Even number\")\n",
        "  #else:\n",
        "     print (\"Odd number\")"
      ],
      "metadata": {
        "colab": {
          "base_uri": "https://localhost:8080/"
        },
        "id": "wxhUs7IMzh7K",
        "outputId": "0a0d15ea-ae80-4cd8-c8e5-4cc68c53a0d1"
      },
      "execution_count": 58,
      "outputs": [
        {
          "output_type": "stream",
          "name": "stdout",
          "text": [
            "Even number\n",
            "Odd number\n",
            "Even number\n",
            "Odd number\n",
            "Even number\n",
            "Odd number\n",
            "Even number\n",
            "Odd number\n",
            "Even number\n",
            "Odd number\n",
            "Even number\n",
            "Odd number\n",
            "Even number\n",
            "Odd number\n",
            "Even number\n",
            "Odd number\n",
            "Even number\n",
            "Odd number\n",
            "Even number\n",
            "Odd number\n",
            "Even number\n",
            "Odd number\n",
            "Even number\n",
            "Odd number\n",
            "Even number\n",
            "Odd number\n",
            "Even number\n",
            "Odd number\n",
            "Even number\n",
            "Odd number\n",
            "Even number\n",
            "Odd number\n",
            "Even number\n",
            "Odd number\n",
            "Even number\n",
            "Odd number\n",
            "Even number\n",
            "Odd number\n",
            "Even number\n",
            "Odd number\n",
            "Even number\n",
            "Odd number\n",
            "Even number\n",
            "Odd number\n",
            "Even number\n",
            "Odd number\n",
            "Even number\n",
            "Odd number\n",
            "Even number\n",
            "Odd number\n",
            "Even number\n",
            "Odd number\n",
            "Even number\n",
            "Odd number\n",
            "Even number\n",
            "Odd number\n",
            "Even number\n",
            "Odd number\n",
            "Even number\n",
            "Odd number\n",
            "Even number\n",
            "Odd number\n",
            "Even number\n",
            "Odd number\n",
            "Even number\n",
            "Odd number\n",
            "Even number\n",
            "Odd number\n",
            "Even number\n",
            "Odd number\n",
            "Even number\n",
            "Odd number\n",
            "Even number\n",
            "Odd number\n",
            "Even number\n",
            "Odd number\n",
            "Even number\n",
            "Odd number\n",
            "Even number\n",
            "Odd number\n",
            "Even number\n",
            "Odd number\n",
            "Even number\n",
            "Odd number\n",
            "Even number\n",
            "Odd number\n",
            "Even number\n",
            "Odd number\n",
            "Even number\n",
            "Odd number\n",
            "Even number\n",
            "Odd number\n",
            "Even number\n",
            "Odd number\n",
            "Even number\n",
            "Odd number\n",
            "Even number\n",
            "Odd number\n"
          ]
        }
      ]
    },
    {
      "cell_type": "code",
      "source": [
        "start,end=1,100\n",
        "for num in range "
      ],
      "metadata": {
        "id": "x5cMvtN16rcN"
      },
      "execution_count": null,
      "outputs": []
    }
  ]
}