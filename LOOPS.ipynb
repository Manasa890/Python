{
  "nbformat": 4,
  "nbformat_minor": 0,
  "metadata": {
    "colab": {
      "name": "LOOPS.ipynb",
      "provenance": [],
      "authorship_tag": "ABX9TyOy8STHQbnpsyW1RCkuY7ia",
      "include_colab_link": true
    },
    "kernelspec": {
      "name": "python3",
      "display_name": "Python 3"
    },
    "language_info": {
      "name": "python"
    }
  },
  "cells": [
    {
      "cell_type": "markdown",
      "metadata": {
        "id": "view-in-github",
        "colab_type": "text"
      },
      "source": [
        "<a href=\"https://colab.research.google.com/github/Manasa890/python/blob/main/LOOPS.ipynb\" target=\"_parent\"><img src=\"https://colab.research.google.com/assets/colab-badge.svg\" alt=\"Open In Colab\"/></a>"
      ]
    },
    {
      "cell_type": "markdown",
      "source": [
        "## **LOOP** **LISTS**\n",
        "\n"
      ],
      "metadata": {
        "id": "CFbZPOEz4F0P"
      }
    },
    {
      "cell_type": "code",
      "source": [
        "# For loop\n",
        "a=[\"Biryani\", \"Manchuria\", \"Chicken 65\", \"Apollo fish\"]\n",
        "for x in a:\n",
        "  print(x)"
      ],
      "metadata": {
        "colab": {
          "base_uri": "https://localhost:8080/"
        },
        "id": "kzmLynCO4Usc",
        "outputId": "dcf6b73b-33fd-4421-b67b-a74c49cf6b72"
      },
      "execution_count": 3,
      "outputs": [
        {
          "output_type": "stream",
          "name": "stdout",
          "text": [
            "Biryani\n",
            "Manchuria\n",
            "Chicken 65\n",
            "Apollo fish\n"
          ]
        }
      ]
    },
    {
      "cell_type": "code",
      "source": [
        "# Loop through the index value\n",
        "a=[\"Biryani\", \"Manchuria\", \"Chicken 65\", \"Apollo fish\"]\n",
        "for x in range(len(a)):\n",
        "  print(a[x])"
      ],
      "metadata": {
        "colab": {
          "base_uri": "https://localhost:8080/"
        },
        "id": "6xwbuA1v4891",
        "outputId": "27567b13-2efa-43b5-bb6d-c0118622945a"
      },
      "execution_count": 6,
      "outputs": [
        {
          "output_type": "stream",
          "name": "stdout",
          "text": [
            "Biryani\n",
            "Manchuria\n",
            "Chicken 65\n",
            "Apollo fish\n"
          ]
        }
      ]
    },
    {
      "cell_type": "code",
      "source": [
        "# While loop\n",
        "a=[\"Biryani\", \"Manchuria\", \"Chicken 65\", \"Apollo fish\"]\n",
        "i=0\n",
        "while i<len(a):\n",
        "  print(a[i])\n",
        "  i=i+1"
      ],
      "metadata": {
        "colab": {
          "base_uri": "https://localhost:8080/"
        },
        "id": "kQa9ACF464um",
        "outputId": "e61a6271-45f8-4fc3-a380-1d1656054483"
      },
      "execution_count": 3,
      "outputs": [
        {
          "output_type": "stream",
          "name": "stdout",
          "text": [
            "Biryani\n",
            "Manchuria\n",
            "Chicken 65\n",
            "Apollo fish\n"
          ]
        }
      ]
    },
    {
      "cell_type": "code",
      "source": [
        "# Loop using List Comprehension\n",
        "a=[\"Biryani\", \"Manchuria\", \"Chicken 65\", \"Apollo fish\"]\n",
        "[print(x) for x in a]"
      ],
      "metadata": {
        "colab": {
          "base_uri": "https://localhost:8080/"
        },
        "id": "ZGlXvGcX9CCG",
        "outputId": "96919956-2f21-4736-df05-b9d1d25316ad"
      },
      "execution_count": 5,
      "outputs": [
        {
          "output_type": "stream",
          "name": "stdout",
          "text": [
            "Biryani\n",
            "Manchuria\n",
            "Chicken 65\n",
            "Apollo fish\n"
          ]
        },
        {
          "output_type": "execute_result",
          "data": {
            "text/plain": [
              "[None, None, None, None]"
            ]
          },
          "metadata": {},
          "execution_count": 5
        }
      ]
    },
    {
      "cell_type": "code",
      "source": [
        "# List Comprehension\n",
        "a=[\"Biryani\", \"Manchuria\", \"Chicken 65\", \"Apollo fish\"]\n",
        "newlist=[]\n",
        "for x in a:\n",
        "  if \"a\" in x:\n",
        "    newlist.append(x)\n",
        "print(newlist)\n"
      ],
      "metadata": {
        "colab": {
          "base_uri": "https://localhost:8080/"
        },
        "id": "SiADFzqU-P43",
        "outputId": "a74384ce-14c4-46cd-d9b4-2d1af1be582a"
      },
      "execution_count": 11,
      "outputs": [
        {
          "output_type": "stream",
          "name": "stdout",
          "text": [
            "['Biryani', 'Manchuria']\n"
          ]
        }
      ]
    },
    {
      "cell_type": "code",
      "source": [
        "# List Comprehension in one line of code\n",
        "a=[\"Biryani\", \"Manchuria\", \"Chicken 65\", \"Apollo fish\"]\n",
        "newlist = [x for x in a if \"a\" in x]\n",
        "\n",
        "print(newlist)\n"
      ],
      "metadata": {
        "colab": {
          "base_uri": "https://localhost:8080/"
        },
        "id": "VuzIQHr4_egu",
        "outputId": "cf26a17c-63c7-4c69-9d4d-795e947309ba"
      },
      "execution_count": 13,
      "outputs": [
        {
          "output_type": "stream",
          "name": "stdout",
          "text": [
            "['Biryani', 'Manchuria']\n"
          ]
        }
      ]
    }
  ]
}