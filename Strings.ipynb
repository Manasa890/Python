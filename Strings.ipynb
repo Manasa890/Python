{
  "nbformat": 4,
  "nbformat_minor": 0,
  "metadata": {
    "colab": {
      "name": "Strings.ipynb",
      "provenance": [],
      "authorship_tag": "ABX9TyNhUua0L7KQNvab/QTJhzS4",
      "include_colab_link": true
    },
    "kernelspec": {
      "name": "python3",
      "display_name": "Python 3"
    },
    "language_info": {
      "name": "python"
    }
  },
  "cells": [
    {
      "cell_type": "markdown",
      "metadata": {
        "id": "view-in-github",
        "colab_type": "text"
      },
      "source": [
        "<a href=\"https://colab.research.google.com/github/Manasa890/python/blob/main/Strings.ipynb\" target=\"_parent\"><img src=\"https://colab.research.google.com/assets/colab-badge.svg\" alt=\"Open In Colab\"/></a>"
      ]
    },
    {
      "cell_type": "code",
      "execution_count": null,
      "metadata": {
        "colab": {
          "base_uri": "https://localhost:8080/"
        },
        "id": "IKFW2bhk6zry",
        "outputId": "d5ee4084-f6b3-4aff-a758-ed547d458e68"
      },
      "outputs": [
        {
          "output_type": "stream",
          "name": "stdout",
          "text": [
            "Manasa\n",
            "<class 'str'>\n",
            "a\n"
          ]
        }
      ],
      "source": [
        "#string\n",
        "a='Manasa'\n",
        "print(a)\n",
        "print(type(a))\n",
        "print(a[1])"
      ]
    },
    {
      "cell_type": "code",
      "source": [
        "a='string'\n",
        "print(len(a))"
      ],
      "metadata": {
        "colab": {
          "base_uri": "https://localhost:8080/"
        },
        "id": "cG1BhyMi7_FF",
        "outputId": "ce8768e2-b011-48fa-c920-2da838f5938c"
      },
      "execution_count": null,
      "outputs": [
        {
          "output_type": "stream",
          "name": "stdout",
          "text": [
            "6\n"
          ]
        }
      ]
    },
    {
      "cell_type": "code",
      "source": [
        "a='Hello string'\n",
        "print(len(a))"
      ],
      "metadata": {
        "colab": {
          "base_uri": "https://localhost:8080/"
        },
        "id": "qMcZbBnR8Bo-",
        "outputId": "62201375-b52d-4d13-d9a7-99cf416c5f3e"
      },
      "execution_count": null,
      "outputs": [
        {
          "output_type": "stream",
          "name": "stdout",
          "text": [
            "12\n"
          ]
        }
      ]
    },
    {
      "cell_type": "code",
      "source": [
        "a=\"RRR movie has been released\"\n",
        "print(\"RRR\" in a)"
      ],
      "metadata": {
        "colab": {
          "base_uri": "https://localhost:8080/"
        },
        "id": "_58ugO5y8l8M",
        "outputId": "bb00022e-eb8e-4ab2-fec7-270c4eb2ab59"
      },
      "execution_count": null,
      "outputs": [
        {
          "output_type": "stream",
          "name": "stdout",
          "text": [
            "True\n"
          ]
        }
      ]
    },
    {
      "cell_type": "code",
      "source": [
        "a=\"Movie is not good\"\n",
        "print(\"if\" in a)"
      ],
      "metadata": {
        "colab": {
          "base_uri": "https://localhost:8080/"
        },
        "id": "iUK5xIDb9MGD",
        "outputId": "0b6b3717-060c-4089-ae3b-ce3d3cc6bb8e"
      },
      "execution_count": null,
      "outputs": [
        {
          "output_type": "stream",
          "name": "stdout",
          "text": [
            "False\n"
          ]
        }
      ]
    },
    {
      "cell_type": "code",
      "source": [
        "# Not in \n",
        "a=\"RRR movie has been released\"\n",
        "print(\"RRR\" not in a)"
      ],
      "metadata": {
        "colab": {
          "base_uri": "https://localhost:8080/"
        },
        "id": "uBxwIZlm9Yot",
        "outputId": "90022999-3834-45cd-859b-9f7bd72255e4"
      },
      "execution_count": null,
      "outputs": [
        {
          "output_type": "stream",
          "name": "stdout",
          "text": [
            "False\n"
          ]
        }
      ]
    },
    {
      "cell_type": "code",
      "source": [
        "# slicing\n",
        "a=\"RRR movie has been released\"\n",
        "print(a[2:5])"
      ],
      "metadata": {
        "colab": {
          "base_uri": "https://localhost:8080/"
        },
        "id": "sazszwnn90rM",
        "outputId": "56a9d32d-5355-449f-d351-79a4f466c1cf"
      },
      "execution_count": 2,
      "outputs": [
        {
          "output_type": "stream",
          "name": "stdout",
          "text": [
            "R m\n"
          ]
        }
      ]
    },
    {
      "cell_type": "code",
      "source": [
        "# Modify string (UPPER CASE)\n",
        "a=\"I went to RRR movie\"\n",
        "print(a.upper())"
      ],
      "metadata": {
        "colab": {
          "base_uri": "https://localhost:8080/"
        },
        "id": "SXOFJJF-YJrY",
        "outputId": "a41086b1-b39f-4240-8c54-cb8318aaef92"
      },
      "execution_count": 4,
      "outputs": [
        {
          "output_type": "stream",
          "name": "stdout",
          "text": [
            "I WENT TO RRR MOVIE\n"
          ]
        }
      ]
    },
    {
      "cell_type": "markdown",
      "source": [
        "### **MODIFY** **STRINGS**"
      ],
      "metadata": {
        "id": "bVg4OmpwdjHv"
      }
    },
    {
      "cell_type": "code",
      "source": [
        "# Modify string (LOWER CASE)\n",
        "a=\"I went to RRR movie\"\n",
        "print(a.lower())"
      ],
      "metadata": {
        "colab": {
          "base_uri": "https://localhost:8080/"
        },
        "id": "taPpNxDsYgeO",
        "outputId": "92803aa2-e838-4aae-c553-1fd722efbb4a"
      },
      "execution_count": 26,
      "outputs": [
        {
          "output_type": "stream",
          "name": "stdout",
          "text": [
            "i went to rrr movie\n"
          ]
        }
      ]
    },
    {
      "cell_type": "markdown",
      "source": [
        ""
      ],
      "metadata": {
        "id": "4D7GA7chdhmI"
      }
    },
    {
      "cell_type": "code",
      "source": [
        "# Remove Whitespace\n",
        "a=\"       RRR movie has been released    \"\n",
        "print(a.strip())"
      ],
      "metadata": {
        "colab": {
          "base_uri": "https://localhost:8080/"
        },
        "id": "LAuUuEqNYyXG",
        "outputId": "3748b6d2-5a8c-4279-9339-9438e5b81cfd"
      },
      "execution_count": 10,
      "outputs": [
        {
          "output_type": "stream",
          "name": "stdout",
          "text": [
            "RRR movie has been released\n"
          ]
        }
      ]
    },
    {
      "cell_type": "code",
      "source": [
        "# Replace string\n",
        "a=\"I went to RRR movie\"\n",
        "print(a.replace(\"RRR\", \"Bheemla Nayak\"))\n",
        "print(a)"
      ],
      "metadata": {
        "colab": {
          "base_uri": "https://localhost:8080/"
        },
        "id": "sL_6hvV4ZsDu",
        "outputId": "f22d2cd4-fb8d-4ea6-8e62-06db77ff4380"
      },
      "execution_count": 16,
      "outputs": [
        {
          "output_type": "stream",
          "name": "stdout",
          "text": [
            "I went to Bheemla Nayak movie\n",
            "I went to RRR movie\n"
          ]
        }
      ]
    },
    {
      "cell_type": "code",
      "source": [
        "# Split string\n",
        "a=\"Akhanda movie became super hit\"\n",
        "print(a.split(\",\"))\n"
      ],
      "metadata": {
        "colab": {
          "base_uri": "https://localhost:8080/"
        },
        "id": "Ad_PLWdaaHHm",
        "outputId": "5e121540-39a7-44fd-cc97-5e101bb94fb7"
      },
      "execution_count": 24,
      "outputs": [
        {
          "output_type": "stream",
          "name": "stdout",
          "text": [
            "['Akhanda movie became super hit']\n"
          ]
        }
      ]
    },
    {
      "cell_type": "code",
      "source": [
        "# Split separately\n",
        "a=\"Akhanda movie became super hit\"\n",
        "print(a.split())"
      ],
      "metadata": {
        "colab": {
          "base_uri": "https://localhost:8080/"
        },
        "id": "oa4r4dIEbRAX",
        "outputId": "25721bb5-baec-4c4a-d033-d05ba84b743e"
      },
      "execution_count": 25,
      "outputs": [
        {
          "output_type": "stream",
          "name": "stdout",
          "text": [
            "['Akhanda', 'movie', 'became', 'super', 'hit']\n"
          ]
        }
      ]
    },
    {
      "cell_type": "code",
      "source": [
        ""
      ],
      "metadata": {
        "id": "EJPWlHsBdN11"
      },
      "execution_count": null,
      "outputs": []
    },
    {
      "cell_type": "markdown",
      "source": [
        "# CONCATENATE **STRINGS**"
      ],
      "metadata": {
        "id": "F-wN4WtJdxhF"
      }
    },
    {
      "cell_type": "code",
      "source": [
        "# Merge Variable A into B\n",
        "=\"I enjoyed watching Indian Idol with my family\"\n",
        "b=\"Yesterday I went to movie with my friends\"\n",
        "c=a+b\n",
        "print(c)"
      ],
      "metadata": {
        "colab": {
          "base_uri": "https://localhost:8080/"
        },
        "id": "68wkuwrqd7K-",
        "outputId": "f0347ba0-36b5-47d2-cc21-0899707a9012"
      },
      "execution_count": 29,
      "outputs": [
        {
          "output_type": "stream",
          "name": "stdout",
          "text": [
            "I enjoyed watching Indian Idol with my familyYesterday I went to movie with my friends\n"
          ]
        }
      ]
    },
    {
      "cell_type": "code",
      "source": [
        "# Adding space between A and B\n",
        "a=\"Model\"\n",
        "b=\"Paper\"\n",
        "c=a+ \" \" +b\n",
        "print(c)"
      ],
      "metadata": {
        "colab": {
          "base_uri": "https://localhost:8080/"
        },
        "id": "DXwA66pDep5s",
        "outputId": "1d6cb036-2cf8-4cff-c2c3-5ee4f35ee969"
      },
      "execution_count": 31,
      "outputs": [
        {
          "output_type": "stream",
          "name": "stdout",
          "text": [
            "Model Paper\n"
          ]
        }
      ]
    },
    {
      "cell_type": "markdown",
      "source": [
        "# **FORMAT STRINGS**"
      ],
      "metadata": {
        "id": "x7m9B3QsfGrY"
      }
    },
    {
      "cell_type": "code",
      "source": [
        "a=\"RRR movie\"\n",
        "b=\"Bheemla Nayak, {}\"\n",
        "print(b.format(a))"
      ],
      "metadata": {
        "colab": {
          "base_uri": "https://localhost:8080/"
        },
        "id": "Bq0oXx3ffN4L",
        "outputId": "4b344371-12d0-4b1e-bd00-89517a7722df"
      },
      "execution_count": 42,
      "outputs": [
        {
          "output_type": "stream",
          "name": "stdout",
          "text": [
            "Bheemla Nayak, RRR movie\n"
          ]
        }
      ]
    },
    {
      "cell_type": "code",
      "source": [
        "price=150\n",
        "quantity=3\n",
        "item=1\n",
        "name=\"Thumbsup\"\n",
        "myorder=\"I bought {3} with {0} having {1} and purchased {2}\"\n",
        "print(myorder.format(price,quantity,item,name))\n"
      ],
      "metadata": {
        "colab": {
          "base_uri": "https://localhost:8080/"
        },
        "id": "6Pk9hCdxhJFc",
        "outputId": "d8443f0a-3e77-44bd-d4d4-d6344ab017df"
      },
      "execution_count": 47,
      "outputs": [
        {
          "output_type": "stream",
          "name": "stdout",
          "text": [
            "I bought Thumbsup with 150 having 3 and purchased 1\n"
          ]
        }
      ]
    },
    {
      "cell_type": "code",
      "source": [
        "Sub1=int(input(\"Enter cse marks\"))\n",
        "Sub2=int(input(\"Enter math marks\"))\n",
        "Sub3=int(input(\"Enter eng marks\"))\n",
        "Sub4=int(input(\"Enter workshop marks\"))\n",
        "Result=\"My cse marks are {0}, math marks are {1}, eng marks are {2}, workshop marks are {3}\"\n",
        "print(Result.format(Sub1, Sub2, Sub3, Sub4))\n"
      ],
      "metadata": {
        "colab": {
          "base_uri": "https://localhost:8080/"
        },
        "id": "7CpEWJ1Tjjgs",
        "outputId": "75bf5cab-638d-49d3-83b6-29d273bfcaa4"
      },
      "execution_count": 63,
      "outputs": [
        {
          "output_type": "stream",
          "name": "stdout",
          "text": [
            "Enter cse marks 89\n",
            "Enter math marks 90\n",
            "Enter eng marks 67\n",
            "Enter workshop marks 45\n",
            "My cse marks are 89, math marks are 90, eng marks are 67, workshop marks are 45\n"
          ]
        }
      ]
    },
    {
      "cell_type": "markdown",
      "source": [
        "# **ESCAPE CHARACTERS**"
      ],
      "metadata": {
        "id": "t26jq2OXnxM6"
      }
    },
    {
      "cell_type": "code",
      "source": [
        "# Characters\n",
        "a=\"Hello Manasa \\\"hi\\\"\"\n",
        "print(a)\n",
        "b=\"Hello Jayani \\\\Hello\"\n",
        "print(b)\n",
        "c=\"Hello \\nManasa\"\n",
        "print(c)\n",
        "d=\"Hello \\tManasa\"\n",
        "print(d)"
      ],
      "metadata": {
        "colab": {
          "base_uri": "https://localhost:8080/"
        },
        "id": "HJ606xO6mxjc",
        "outputId": "67c20b47-91b6-4e08-b158-6a491742f88e"
      },
      "execution_count": 59,
      "outputs": [
        {
          "output_type": "stream",
          "name": "stdout",
          "text": [
            "Hello Manasa \"hi\"\n",
            "Hello Jayani \\Hello\n",
            "Hello \n",
            "Manasa\n",
            "Hello \tManasa\n"
          ]
        }
      ]
    },
    {
      "cell_type": "code",
      "source": [
        "a=\"Hello\\bManasa\"\n",
        "print(a)"
      ],
      "metadata": {
        "colab": {
          "base_uri": "https://localhost:8080/"
        },
        "id": "0KicmmXknrxB",
        "outputId": "d249c8a5-5602-4354-f88f-030b5a4072eb"
      },
      "execution_count": 67,
      "outputs": [
        {
          "output_type": "stream",
          "name": "stdout",
          "text": [
            "Hello\bManasa\n"
          ]
        }
      ]
    },
    {
      "cell_type": "code",
      "source": [
        "# Octal\n",
        "a=\"\\120\"\n",
        "print(a)"
      ],
      "metadata": {
        "colab": {
          "base_uri": "https://localhost:8080/"
        },
        "id": "jWFX52IrozXt",
        "outputId": "7da63c37-1364-449e-88ba-6e1eae945ac8"
      },
      "execution_count": 69,
      "outputs": [
        {
          "output_type": "stream",
          "name": "stdout",
          "text": [
            "P\n"
          ]
        }
      ]
    },
    {
      "cell_type": "code",
      "source": [
        "# Octal 2\n",
        "a= \"\\110\\145\\154\\154\\157\"\n",
        "print(a)"
      ],
      "metadata": {
        "colab": {
          "base_uri": "https://localhost:8080/"
        },
        "id": "QIvEGEeMpTYS",
        "outputId": "fb72c6da-90ce-43da-8a79-d521099a7fbc"
      },
      "execution_count": 71,
      "outputs": [
        {
          "output_type": "stream",
          "name": "stdout",
          "text": [
            "Hello\n"
          ]
        }
      ]
    },
    {
      "cell_type": "markdown",
      "source": [
        "# **STRING METHODS**"
      ],
      "metadata": {
        "id": "evmcXycOrFuD"
      }
    },
    {
      "cell_type": "code",
      "source": [
        "# String Methods\n",
        "a=\"manasa\"\n",
        "b=a.capitalize()\n",
        "print(b)"
      ],
      "metadata": {
        "colab": {
          "base_uri": "https://localhost:8080/"
        },
        "id": "UGmI3BXcqavk",
        "outputId": "08ff0ada-c3d7-454a-b181-24417b830325"
      },
      "execution_count": 75,
      "outputs": [
        {
          "output_type": "stream",
          "name": "stdout",
          "text": [
            "Manasa\n"
          ]
        }
      ]
    },
    {
      "cell_type": "code",
      "source": [
        "# Casefold\n",
        "a=\"Manasa\"\n",
        "b=a.casefold()\n",
        "print(b)"
      ],
      "metadata": {
        "colab": {
          "base_uri": "https://localhost:8080/"
        },
        "id": "kgztf7j1q7qx",
        "outputId": "77b10b30-c797-4e6c-82a6-fa507fbedbf7"
      },
      "execution_count": 78,
      "outputs": [
        {
          "output_type": "stream",
          "name": "stdout",
          "text": [
            "manasa\n"
          ]
        }
      ]
    },
    {
      "cell_type": "code",
      "source": [
        "# Center\n",
        "a=\"manasa\"\n",
        "b=a.center(50)\n",
        "print(b)"
      ],
      "metadata": {
        "colab": {
          "base_uri": "https://localhost:8080/"
        },
        "id": "-vAV5qw-reQx",
        "outputId": "4852a0d6-111a-47cd-d7a8-d29bc0a00239"
      },
      "execution_count": 80,
      "outputs": [
        {
          "output_type": "stream",
          "name": "stdout",
          "text": [
            "                      manasa                      \n"
          ]
        }
      ]
    },
    {
      "cell_type": "code",
      "source": [
        "# Count\n",
        "a=\"Welcome to Python Programming\"\n",
        "b=a.count(\"\")\n",
        "print(b)\n",
        "print(len(a))"
      ],
      "metadata": {
        "colab": {
          "base_uri": "https://localhost:8080/"
        },
        "id": "Hp7VnBizrtXe",
        "outputId": "e130877b-1612-477f-885f-d02938b22078"
      },
      "execution_count": 86,
      "outputs": [
        {
          "output_type": "stream",
          "name": "stdout",
          "text": [
            "30\n",
            "29\n"
          ]
        }
      ]
    },
    {
      "cell_type": "code",
      "source": [
        "# Encode\n",
        "a=\"Welcome to Python Programming\"\n",
        "b=a.encode()\n",
        "print(b)"
      ],
      "metadata": {
        "colab": {
          "base_uri": "https://localhost:8080/"
        },
        "id": "7Hc7syV3s0OX",
        "outputId": "e1a6fe78-d30e-481d-cb5d-6491e42bd7ce"
      },
      "execution_count": 88,
      "outputs": [
        {
          "output_type": "stream",
          "name": "stdout",
          "text": [
            "b'Welcome to Python Programming'\n"
          ]
        }
      ]
    },
    {
      "cell_type": "code",
      "source": [
        "# Endswith\n",
        "a=\"Welcome to Python Programming\"\n",
        "b=a.endswith(\".\")\n",
        "print(b)"
      ],
      "metadata": {
        "colab": {
          "base_uri": "https://localhost:8080/"
        },
        "id": "BnIFE50stC9R",
        "outputId": "291d4dcf-b567-4483-fc5f-814c8de826db"
      },
      "execution_count": 92,
      "outputs": [
        {
          "output_type": "stream",
          "name": "stdout",
          "text": [
            "False\n"
          ]
        }
      ]
    },
    {
      "cell_type": "code",
      "source": [
        "# Endswith\n",
        "a=\"Welcome to Python Programming.\"\n",
        "b=a.endswith(\".\")\n",
        "print(b)"
      ],
      "metadata": {
        "colab": {
          "base_uri": "https://localhost:8080/"
        },
        "id": "7K9y0MXwtfsx",
        "outputId": "09089d95-8a80-408a-88e0-7638447a9d1a"
      },
      "execution_count": 93,
      "outputs": [
        {
          "output_type": "stream",
          "name": "stdout",
          "text": [
            "True\n"
          ]
        }
      ]
    }
  ]
}