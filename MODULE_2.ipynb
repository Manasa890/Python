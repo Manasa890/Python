{
  "nbformat": 4,
  "nbformat_minor": 0,
  "metadata": {
    "colab": {
      "name": "MODULE 2.ipynb",
      "provenance": [],
      "authorship_tag": "ABX9TyNl1i7CPH9YmXhewjRpPGZ2",
      "include_colab_link": true
    },
    "kernelspec": {
      "name": "python3",
      "display_name": "Python 3"
    },
    "language_info": {
      "name": "python"
    }
  },
  "cells": [
    {
      "cell_type": "markdown",
      "metadata": {
        "id": "view-in-github",
        "colab_type": "text"
      },
      "source": [
        "<a href=\"https://colab.research.google.com/github/Manasa890/python/blob/main/MODULE_2.ipynb\" target=\"_parent\"><img src=\"https://colab.research.google.com/assets/colab-badge.svg\" alt=\"Open In Colab\"/></a>"
      ]
    },
    {
      "cell_type": "code",
      "execution_count": 6,
      "metadata": {
        "colab": {
          "base_uri": "https://localhost:8080/"
        },
        "id": "lSl-2C7_otWe",
        "outputId": "f97d4b7c-87a3-4b94-8ff4-8ce680799f93"
      },
      "outputs": [
        {
          "output_type": "stream",
          "name": "stdout",
          "text": [
            " 8\n",
            " 9\n",
            "0\n"
          ]
        }
      ],
      "source": [
        "# Create a function which accepts two inputs from the user and compute nCr\n",
        "def nCr(a,b):\n",
        "  return(fact(a)/(fact(b)\n",
        "                *fact(a-b)))\n",
        "a=int(input(\"\"))\n",
        "b=int(input(\"\"))\n",
        "def fact(a):\n",
        "  res=1\n",
        "  for i in range (2,a+1):\n",
        "    res=res*i\n",
        "  return res\n",
        "print(int(nCr(a,b)))    \n"
      ]
    },
    {
      "cell_type": "code",
      "source": [
        "# Program to print a specified list after removing the 0th, 4th and 5th elements.\n",
        "# Sample List : ['Red', 'Green', 'White', 'Black', 'Pink', 'Yellow']\n",
        "# Expected Output : ['Green', 'White', 'Black']\n",
        "Colours=['Red', 'Green', 'White', 'Black', 'Pink', 'Yellow']\n",
        "del Colours[0]\n",
        "del Colours[3]\n",
        "del Colours[3]\n",
        "print(Colours)\n"
      ],
      "metadata": {
        "colab": {
          "base_uri": "https://localhost:8080/"
        },
        "id": "Alocf64Lt_Qc",
        "outputId": "96b82e60-57a0-4af4-88fe-8424fb3c0fda"
      },
      "execution_count": 14,
      "outputs": [
        {
          "output_type": "stream",
          "name": "stdout",
          "text": [
            "['Green', 'White', 'Black']\n"
          ]
        }
      ]
    },
    {
      "cell_type": "code",
      "source": [
        "# Program to get the difference between the two lists\n",
        "a= [\"1\"]"
      ],
      "metadata": {
        "id": "b5lhBmXwx3eZ"
      },
      "execution_count": null,
      "outputs": []
    }
  ]
}