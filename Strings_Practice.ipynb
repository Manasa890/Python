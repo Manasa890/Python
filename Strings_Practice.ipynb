{
  "nbformat": 4,
  "nbformat_minor": 0,
  "metadata": {
    "colab": {
      "name": "Strings Practice.ipynb",
      "provenance": [],
      "authorship_tag": "ABX9TyPbakQ7NKHtb5wE0I+yhGbr",
      "include_colab_link": true
    },
    "kernelspec": {
      "name": "python3",
      "display_name": "Python 3"
    },
    "language_info": {
      "name": "python"
    }
  },
  "cells": [
    {
      "cell_type": "markdown",
      "metadata": {
        "id": "view-in-github",
        "colab_type": "text"
      },
      "source": [
        "<a href=\"https://colab.research.google.com/github/Manasa890/python/blob/main/Strings_Practice.ipynb\" target=\"_parent\"><img src=\"https://colab.research.google.com/assets/colab-badge.svg\" alt=\"Open In Colab\"/></a>"
      ]
    },
    {
      "cell_type": "code",
      "execution_count": 29,
      "metadata": {
        "colab": {
          "base_uri": "https://localhost:8080/"
        },
        "id": "1QcrtiSN4q6M",
        "outputId": "9e1a11a1-884a-416f-f36a-28d285652567"
      },
      "outputs": [
        {
          "output_type": "stream",
          "name": "stdout",
          "text": [
            "el P\n"
          ]
        }
      ],
      "source": [
        "# Slicing string\n",
        "a=\"Model Paper\"\n",
        "print(a[3:7])"
      ]
    },
    {
      "cell_type": "code",
      "source": [
        "# Slicing 2\n",
        "a=\"Model Paper\"\n",
        "print(a[:10])\n"
      ],
      "metadata": {
        "colab": {
          "base_uri": "https://localhost:8080/"
        },
        "id": "qoLcoiAf5Hql",
        "outputId": "61ade563-46d4-4bf4-d180-0c869ae2f69b"
      },
      "execution_count": 6,
      "outputs": [
        {
          "output_type": "stream",
          "name": "stdout",
          "text": [
            "Model Pape\n"
          ]
        }
      ]
    },
    {
      "cell_type": "code",
      "source": [
        "# Slicing 3\n",
        "a=\"Model Paper\"\n",
        "print(a[8:])\n"
      ],
      "metadata": {
        "colab": {
          "base_uri": "https://localhost:8080/"
        },
        "id": "QIZkCTV3718z",
        "outputId": "1e5a2924-8295-4dbf-f914-036342a7983a"
      },
      "execution_count": 17,
      "outputs": [
        {
          "output_type": "stream",
          "name": "stdout",
          "text": [
            "per\n"
          ]
        }
      ]
    },
    {
      "cell_type": "code",
      "source": [
        "# Slicing negative indexing\n",
        "a=\"Model Paper\"\n",
        "print(a[-5:-3])\n"
      ],
      "metadata": {
        "colab": {
          "base_uri": "https://localhost:8080/"
        },
        "id": "xjLVnS2I9LHd",
        "outputId": "ef37376f-ce43-4e1b-d551-f7c75576c665"
      },
      "execution_count": 15,
      "outputs": [
        {
          "output_type": "stream",
          "name": "stdout",
          "text": [
            "Pa\n"
          ]
        }
      ]
    },
    {
      "cell_type": "code",
      "source": [
        "# Modify String\n",
        "a=\"Sample question paper\"\n",
        "print(a.upper())"
      ],
      "metadata": {
        "colab": {
          "base_uri": "https://localhost:8080/"
        },
        "id": "tiQUvFGo_DOi",
        "outputId": "800a80f7-4683-4873-a1de-5162d828940f"
      },
      "execution_count": 19,
      "outputs": [
        {
          "output_type": "stream",
          "name": "stdout",
          "text": [
            "SAMPLE QUESTION PAPER\n"
          ]
        }
      ]
    },
    {
      "cell_type": "code",
      "source": [
        "# Modify String 2\n",
        "a=\"Sample question paper\"\n",
        "print(a.lower())"
      ],
      "metadata": {
        "colab": {
          "base_uri": "https://localhost:8080/"
        },
        "id": "IE3fbHXTALoD",
        "outputId": "4b0e55b2-6472-4d6e-9645-7ce2e102b5f4"
      },
      "execution_count": 21,
      "outputs": [
        {
          "output_type": "stream",
          "name": "stdout",
          "text": [
            "sample question paper\n"
          ]
        }
      ]
    },
    {
      "cell_type": "code",
      "source": [
        "# Remove Whitespace\n",
        "a=\"Sample question paper\"\n",
        "print(a.strip())"
      ],
      "metadata": {
        "colab": {
          "base_uri": "https://localhost:8080/"
        },
        "id": "c2caN2W4ARRP",
        "outputId": "dc6b2794-0a5a-442e-94ef-3dbbfe3bf5cc"
      },
      "execution_count": 23,
      "outputs": [
        {
          "output_type": "stream",
          "name": "stdout",
          "text": [
            "Sample question paper\n"
          ]
        }
      ]
    },
    {
      "cell_type": "code",
      "source": [
        "# Replace string\n",
        "a=\"Sample question paper\"\n",
        "print(a.replace(\"p\",'o'))"
      ],
      "metadata": {
        "colab": {
          "base_uri": "https://localhost:8080/"
        },
        "id": "DoksAVkxA6qD",
        "outputId": "9f3425ef-a91a-489b-96d2-4dd874e0019b"
      },
      "execution_count": 27,
      "outputs": [
        {
          "output_type": "stream",
          "name": "stdout",
          "text": [
            "Samole question oaoer\n"
          ]
        }
      ]
    },
    {
      "cell_type": "code",
      "source": [
        "# Split string\n",
        "a=\"Sample question paper\"\n",
        "print(a.split(\",\"))"
      ],
      "metadata": {
        "colab": {
          "base_uri": "https://localhost:8080/"
        },
        "id": "TTQ2DYMwBM43",
        "outputId": "413f2890-3485-49d9-c93f-3b93056b815f"
      },
      "execution_count": 30,
      "outputs": [
        {
          "output_type": "stream",
          "name": "stdout",
          "text": [
            "['Sample question paper']\n"
          ]
        }
      ]
    },
    {
      "cell_type": "code",
      "source": [
        "# Concatenate string\n",
        "a=\"Sample question paper\"\n",
        "b=\"Sample answer sheet\"\n",
        "c=a+b\n",
        "print(c)"
      ],
      "metadata": {
        "colab": {
          "base_uri": "https://localhost:8080/"
        },
        "id": "ngt1LGVYCoUa",
        "outputId": "83c1cf9f-090d-42ac-eca9-20e5e145cbbb"
      },
      "execution_count": 33,
      "outputs": [
        {
          "output_type": "stream",
          "name": "stdout",
          "text": [
            "Sample question paperSample answer sheet\n"
          ]
        }
      ]
    },
    {
      "cell_type": "code",
      "source": [
        "# Concatenate string 2\n",
        "a=\"Sample question paper\"\n",
        "b=\"Sample answer sheet\"\n",
        "c= a + \" \" + b\n",
        "print(c)"
      ],
      "metadata": {
        "colab": {
          "base_uri": "https://localhost:8080/"
        },
        "id": "lj2LOjk9DJ7v",
        "outputId": "d8d09d11-4a98-4cd4-9b39-6f813f86695d"
      },
      "execution_count": 35,
      "outputs": [
        {
          "output_type": "stream",
          "name": "stdout",
          "text": [
            "Sample question paper Sample answer sheet\n"
          ]
        }
      ]
    }
  ]
}