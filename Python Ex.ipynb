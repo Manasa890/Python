{
 "cells": [
  {
   "cell_type": "markdown",
   "id": "98bf50bb",
   "metadata": {},
   "source": [
    "## Average of three  numbers                                                                                                              "
   ]
  },
  {
   "cell_type": "code",
   "execution_count": 1,
   "id": "ffe7e0f1",
   "metadata": {},
   "outputs": [
    {
     "name": "stdout",
     "output_type": "stream",
     "text": [
      "20.0\n",
      "<class 'float'>\n",
      "10\n",
      "<class 'int'>\n"
     ]
    }
   ],
   "source": [
    "a=10\n",
    "b=20\n",
    "c=30\n",
    "average=(a+b+c)/3\n",
    "print(average)\n",
    "print(type(average))\n",
    "print(a)\n",
    "print(type(a))"
   ]
  },
  {
   "cell_type": "markdown",
   "id": "00b4cd4e",
   "metadata": {},
   "source": [
    "## Static Multiplication of three numbers "
   ]
  },
  {
   "cell_type": "code",
   "execution_count": 4,
   "id": "924da638",
   "metadata": {},
   "outputs": [
    {
     "name": "stdout",
     "output_type": "stream",
     "text": [
      "40\n",
      "<class 'int'>\n",
      "2\n",
      "<class 'int'>\n"
     ]
    }
   ],
   "source": [
    "a=2\n",
    "b=4\n",
    "c=5\n",
    "multiply= a*b*c\n",
    "print(multiply)\n",
    "print(type(multiply))\n",
    "print(a)\n",
    "print(type(a))"
   ]
  },
  {
   "cell_type": "markdown",
   "id": "5f2233f6",
   "metadata": {},
   "source": [
    "## Dynamic Addition of two numbers"
   ]
  },
  {
   "cell_type": "code",
   "execution_count": 8,
   "id": "55b37a4d",
   "metadata": {},
   "outputs": [
    {
     "name": "stdout",
     "output_type": "stream",
     "text": [
      "Enter the number:67\n",
      "Enter the number:67\n",
      "134\n",
      "<class 'type'>\n"
     ]
    }
   ],
   "source": [
    "a=int(input(\"Enter the number:\"))\n",
    "b=int(input(\"Enter the number:\"))\n",
    "add=(a+b)\n",
    "print(add)\n",
    "print(type)"
   ]
  },
  {
   "cell_type": "markdown",
   "id": "9c0bd220",
   "metadata": {},
   "source": [
    "## Dynamic multiplication of two numbers"
   ]
  },
  {
   "cell_type": "code",
   "execution_count": 11,
   "id": "75d4759a",
   "metadata": {},
   "outputs": [
    {
     "name": "stdout",
     "output_type": "stream",
     "text": [
      "Enter the number:99\n",
      "Enter the number:99\n",
      "9801\n",
      "<class 'type'>\n"
     ]
    }
   ],
   "source": [
    "a=int(input(\"Enter the number:\"))\n",
    "b=int(input(\"Enter the number:\"))\n",
    "multiply=(a*b)\n",
    "print(multiply)\n",
    "print(type)"
   ]
  },
  {
   "cell_type": "markdown",
   "id": "4ef5dcf7",
   "metadata": {},
   "source": [
    "## Type Conversions"
   ]
  },
  {
   "cell_type": "markdown",
   "id": "a31f91f7",
   "metadata": {},
   "source": [
    "### Convert int to float"
   ]
  },
  {
   "cell_type": "code",
   "execution_count": 14,
   "id": "f36c1f38",
   "metadata": {},
   "outputs": [
    {
     "name": "stdout",
     "output_type": "stream",
     "text": [
      "10\n",
      "<class 'int'>\n",
      "10.0\n",
      "<class 'float'>\n"
     ]
    }
   ],
   "source": [
    "a=10\n",
    "print(a)\n",
    "print(type(a))\n",
    "b=float(a)\n",
    "print(b)\n",
    "print(type(b))"
   ]
  },
  {
   "cell_type": "markdown",
   "id": "621a69a3",
   "metadata": {},
   "source": [
    "### Convert float to int"
   ]
  },
  {
   "cell_type": "code",
   "execution_count": 38,
   "id": "c89d9d86",
   "metadata": {},
   "outputs": [
    {
     "name": "stdout",
     "output_type": "stream",
     "text": [
      "10.1\n",
      "<class 'float'>\n",
      "10\n",
      "<class 'int'>\n"
     ]
    }
   ],
   "source": [
    "a=10.10\n",
    "print(a)\n",
    "print(type(a))\n",
    "b=int(a)\n",
    "print(b)\n",
    "print(type(b))"
   ]
  },
  {
   "cell_type": "markdown",
   "id": "113316e0",
   "metadata": {},
   "source": [
    "### Convert int to string"
   ]
  },
  {
   "cell_type": "code",
   "execution_count": 21,
   "id": "add06598",
   "metadata": {},
   "outputs": [
    {
     "name": "stdout",
     "output_type": "stream",
     "text": [
      "10\n",
      "<class 'int'>\n",
      "10\n",
      "<class 'str'>\n"
     ]
    }
   ],
   "source": [
    "a=10\n",
    "print(a)\n",
    "print(type(a))\n",
    "b=str(a)\n",
    "print(b)\n",
    "print(type(b))"
   ]
  },
  {
   "cell_type": "markdown",
   "id": "60929f75",
   "metadata": {},
   "source": [
    "### Convert float to string"
   ]
  },
  {
   "cell_type": "code",
   "execution_count": 22,
   "id": "60176893",
   "metadata": {},
   "outputs": [
    {
     "name": "stdout",
     "output_type": "stream",
     "text": [
      "(10, 10)\n",
      "<class 'tuple'>\n",
      "(10, 10)\n",
      "<class 'str'>\n"
     ]
    }
   ],
   "source": [
    "a=10,10\n",
    "print(a)\n",
    "print(type(a))\n",
    "b=str(a)\n",
    "print(b)\n",
    "print(type(b))"
   ]
  },
  {
   "cell_type": "markdown",
   "id": "a17084b7",
   "metadata": {},
   "source": [
    "### Convert string to int "
   ]
  },
  {
   "cell_type": "code",
   "execution_count": 24,
   "id": "48392ea6",
   "metadata": {},
   "outputs": [
    {
     "name": "stdout",
     "output_type": "stream",
     "text": [
      "10\n",
      "<class 'str'>\n",
      "10\n",
      "<class 'int'>\n"
     ]
    }
   ],
   "source": [
    "a='10'\n",
    "print(a)\n",
    "print(type(a))\n",
    "b=int(a)\n",
    "print(b)\n",
    "print(type(b))\n"
   ]
  },
  {
   "cell_type": "markdown",
   "id": "f1d87f4c",
   "metadata": {},
   "source": [
    "## Boolean Datatype Conversions"
   ]
  },
  {
   "cell_type": "markdown",
   "id": "59eef665",
   "metadata": {},
   "source": [
    "### Convert Int to Boolean"
   ]
  },
  {
   "cell_type": "code",
   "execution_count": 30,
   "id": "db26f503",
   "metadata": {},
   "outputs": [
    {
     "name": "stdout",
     "output_type": "stream",
     "text": [
      "10\n",
      "<class 'int'>\n",
      "True\n",
      "<class 'bool'>\n"
     ]
    }
   ],
   "source": [
    "a=10\n",
    "print(a)\n",
    "print(type(a))\n",
    "b=bool(a)\n",
    "print(b)\n",
    "print(type(b))\n"
   ]
  },
  {
   "cell_type": "markdown",
   "id": "0d4b948f",
   "metadata": {},
   "source": [
    "### Check Boolean Conditions"
   ]
  },
  {
   "cell_type": "code",
   "execution_count": 31,
   "id": "8fd75175",
   "metadata": {},
   "outputs": [
    {
     "name": "stdout",
     "output_type": "stream",
     "text": [
      "True\n"
     ]
    }
   ],
   "source": [
    "print(20==20)"
   ]
  },
  {
   "cell_type": "code",
   "execution_count": 34,
   "id": "d05d26d0",
   "metadata": {},
   "outputs": [
    {
     "name": "stdout",
     "output_type": "stream",
     "text": [
      "False\n"
     ]
    }
   ],
   "source": [
    "print(90<80)"
   ]
  },
  {
   "cell_type": "markdown",
   "id": "02466bc2",
   "metadata": {},
   "source": [
    "### Convert float to boolean"
   ]
  },
  {
   "cell_type": "code",
   "execution_count": 39,
   "id": "de08124c",
   "metadata": {},
   "outputs": [
    {
     "name": "stdout",
     "output_type": "stream",
     "text": [
      "10.1\n",
      "<class 'float'>\n",
      "True\n",
      "<class 'bool'>\n"
     ]
    }
   ],
   "source": [
    "a=10.10\n",
    "print(a)\n",
    "print(type(a))\n",
    "b=bool(a)\n",
    "print(b)\n",
    "print(type(b))"
   ]
  },
  {
   "cell_type": "markdown",
   "id": "d6de2ab0",
   "metadata": {},
   "source": [
    "### Convert string to boolean"
   ]
  },
  {
   "cell_type": "code",
   "execution_count": 37,
   "id": "93b00a57",
   "metadata": {},
   "outputs": [
    {
     "name": "stdout",
     "output_type": "stream",
     "text": [
      "10\n",
      "<class 'str'>\n",
      "True\n",
      "<class 'bool'>\n"
     ]
    }
   ],
   "source": [
    "a='10'\n",
    "print(a)\n",
    "print(type(a))\n",
    "b=bool(a)\n",
    "print(b)\n",
    "print(type(b))"
   ]
  },
  {
   "cell_type": "markdown",
   "id": "7eaa7fb2",
   "metadata": {},
   "source": [
    "### Convert Boolean to int"
   ]
  },
  {
   "cell_type": "code",
   "execution_count": 40,
   "id": "b8304fbd",
   "metadata": {},
   "outputs": [
    {
     "name": "stdout",
     "output_type": "stream",
     "text": [
      "True\n",
      "<class 'bool'>\n",
      "1\n",
      "<class 'int'>\n"
     ]
    }
   ],
   "source": [
    "a=True\n",
    "print(a)\n",
    "print(type(a))\n",
    "b=int(a)\n",
    "print(b)\n",
    "print(type(b))"
   ]
  },
  {
   "cell_type": "markdown",
   "id": "a41df22c",
   "metadata": {},
   "source": [
    "### Convert Boolean to float"
   ]
  },
  {
   "cell_type": "code",
   "execution_count": 43,
   "id": "2e6bcac3",
   "metadata": {},
   "outputs": [
    {
     "name": "stdout",
     "output_type": "stream",
     "text": [
      "False\n",
      "<class 'bool'>\n",
      "0.0\n",
      "<class 'float'>\n"
     ]
    }
   ],
   "source": [
    "a=False\n",
    "print(a)\n",
    "print(type(a))\n",
    "b=float(a)\n",
    "print(b)\n",
    "print(type(b))"
   ]
  },
  {
   "cell_type": "markdown",
   "id": "7cf3468c",
   "metadata": {},
   "source": [
    "### Convert Boolean to string"
   ]
  },
  {
   "cell_type": "code",
   "execution_count": 44,
   "id": "f5c4382e",
   "metadata": {},
   "outputs": [
    {
     "name": "stdout",
     "output_type": "stream",
     "text": [
      "True\n",
      "<class 'bool'>\n",
      "True\n",
      "<class 'str'>\n"
     ]
    }
   ],
   "source": [
    "a=True\n",
    "print(a)\n",
    "print(type(a))\n",
    "b=str(a)\n",
    "print(b)\n",
    "print(type(b))"
   ]
  },
  {
   "cell_type": "markdown",
   "id": "a695b85b",
   "metadata": {},
   "source": [
    "### Int to Boolean (with condition)"
   ]
  },
  {
   "cell_type": "code",
   "execution_count": 46,
   "id": "aaea17fb",
   "metadata": {},
   "outputs": [
    {
     "name": "stdout",
     "output_type": "stream",
     "text": [
      "False\n",
      "<class 'bool'>\n"
     ]
    }
   ],
   "source": [
    "a=5\n",
    "b=20\n",
    "c=(a>b)\n",
    "print(c)\n",
    "print(type(c))"
   ]
  },
  {
   "cell_type": "markdown",
   "id": "a450c396",
   "metadata": {},
   "source": [
    "### Boolean to int (with condition)\n"
   ]
  },
  {
   "cell_type": "code",
   "execution_count": 47,
   "id": "68bc2ed4",
   "metadata": {},
   "outputs": [
    {
     "name": "stdout",
     "output_type": "stream",
     "text": [
      "True\n",
      "<class 'bool'>\n",
      "1\n",
      "<class 'int'>\n"
     ]
    }
   ],
   "source": [
    "a=bool(10)\n",
    "print(a)\n",
    "print(type(a))\n",
    "b=int(a)\n",
    "print(b)\n",
    "print(type(b))"
   ]
  },
  {
   "cell_type": "markdown",
   "id": "cf354ee3",
   "metadata": {},
   "source": [
    "### Float to Boolean (with condition)\n",
    "\n"
   ]
  },
  {
   "cell_type": "code",
   "execution_count": null,
   "id": "991ebfff",
   "metadata": {},
   "outputs": [],
   "source": [
    "a="
   ]
  }
 ],
 "metadata": {
  "kernelspec": {
   "display_name": "Python 3 (ipykernel)",
   "language": "python",
   "name": "python3"
  },
  "language_info": {
   "codemirror_mode": {
    "name": "ipython",
    "version": 3
   },
   "file_extension": ".py",
   "mimetype": "text/x-python",
   "name": "python",
   "nbconvert_exporter": "python",
   "pygments_lexer": "ipython3",
   "version": "3.9.7"
  }
 },
 "nbformat": 4,
 "nbformat_minor": 5
}
