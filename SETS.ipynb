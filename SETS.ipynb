{
  "nbformat": 4,
  "nbformat_minor": 0,
  "metadata": {
    "colab": {
      "name": "SETS.ipynb",
      "provenance": [],
      "authorship_tag": "ABX9TyMr3muAeYQII6kcpOQYk0AK",
      "include_colab_link": true
    },
    "kernelspec": {
      "name": "python3",
      "display_name": "Python 3"
    },
    "language_info": {
      "name": "python"
    }
  },
  "cells": [
    {
      "cell_type": "markdown",
      "metadata": {
        "id": "view-in-github",
        "colab_type": "text"
      },
      "source": [
        "<a href=\"https://colab.research.google.com/github/Manasa890/python/blob/main/SETS.ipynb\" target=\"_parent\"><img src=\"https://colab.research.google.com/assets/colab-badge.svg\" alt=\"Open In Colab\"/></a>"
      ]
    },
    {
      "cell_type": "code",
      "execution_count": null,
      "metadata": {
        "colab": {
          "base_uri": "https://localhost:8080/"
        },
        "id": "TlmVa-7aBDVl",
        "outputId": "663fa3d2-590e-43ef-f179-24aa76722cd5"
      },
      "outputs": [
        {
          "output_type": "stream",
          "name": "stdout",
          "text": [
            "{'pigeon', 'sparrow', 'parrot'}\n"
          ]
        }
      ],
      "source": [
        "# Create a set\n",
        "Birds={\"sparrow\", \"pigeon\", \"parrot\"}\n",
        "print(Birds)"
      ]
    },
    {
      "cell_type": "code",
      "source": [
        "# Duplicate sets\n",
        "Birds={\"sparrow\", \"pigeon\", \"parrot\", \"sparrow\"}\n",
        "print(Birds)"
      ],
      "metadata": {
        "colab": {
          "base_uri": "https://localhost:8080/"
        },
        "id": "zeWwVTqQCeJP",
        "outputId": "c2686eb8-7136-4711-d59a-61963334fff5"
      },
      "execution_count": null,
      "outputs": [
        {
          "output_type": "stream",
          "name": "stdout",
          "text": [
            "{'pigeon', 'sparrow', 'parrot'}\n"
          ]
        }
      ]
    },
    {
      "cell_type": "code",
      "source": [
        "# Length sets\n",
        "Birds={\"sparrow\", \"pigeon\", \"parrot\"}\n",
        "print(len(Birds))"
      ],
      "metadata": {
        "colab": {
          "base_uri": "https://localhost:8080/"
        },
        "id": "HoK_2giFC2W5",
        "outputId": "3b373861-6ce4-41b9-c2a4-fba238c89e06"
      },
      "execution_count": null,
      "outputs": [
        {
          "output_type": "stream",
          "name": "stdout",
          "text": [
            "3\n"
          ]
        }
      ]
    },
    {
      "cell_type": "code",
      "source": [
        "# For loop by access items\n",
        "Birds={\"sparrow\", \"pigeon\", \"parrot\"}\n",
        "for x in Birds:\n",
        "  print(x)"
      ],
      "metadata": {
        "colab": {
          "base_uri": "https://localhost:8080/"
        },
        "id": "TyD96A5DKKrP",
        "outputId": "b90d1d0b-d5c9-4d9b-b092-8c2ea1ac6abc"
      },
      "execution_count": null,
      "outputs": [
        {
          "output_type": "stream",
          "name": "stdout",
          "text": [
            "pigeon\n",
            "sparrow\n",
            "parrot\n"
          ]
        }
      ]
    },
    {
      "cell_type": "code",
      "source": [
        "# Check if \"pigeon\" is present in the set:\n",
        "Birds={\"sparrow\", \"pigeon\", \"parrot\"}\n",
        "print(\"pigeon\" in Birds)"
      ],
      "metadata": {
        "colab": {
          "base_uri": "https://localhost:8080/"
        },
        "id": "QCmcKCKcK3s_",
        "outputId": "b5bcac66-de7e-4c32-ba0f-3ff6791c8f0d"
      },
      "execution_count": null,
      "outputs": [
        {
          "output_type": "stream",
          "name": "stdout",
          "text": [
            "True\n"
          ]
        }
      ]
    },
    {
      "cell_type": "code",
      "source": [
        "# Add sets\n",
        "Birds={\"sparrow\", \"pigeon\", \"parrot\"}\n",
        "Birds.add(\"peacock\")\n",
        "print(Birds)"
      ],
      "metadata": {
        "colab": {
          "base_uri": "https://localhost:8080/"
        },
        "id": "obwLvUkQLZub",
        "outputId": "41ed1fcf-f217-4ebd-fbd9-903d353eeef1"
      },
      "execution_count": null,
      "outputs": [
        {
          "output_type": "stream",
          "name": "stdout",
          "text": [
            "{'pigeon', 'peacock', 'sparrow', 'parrot'}\n"
          ]
        }
      ]
    },
    {
      "cell_type": "code",
      "source": [
        "# Add Update Method\n",
        "Birds={\"sparrow\", \"pigeon\", \"parrot\"}\n",
        "Colours={\"Purple\", \"Green\", \"Violet\"}\n",
        "Birds.update(Colours)\n",
        "print(Birds)"
      ],
      "metadata": {
        "colab": {
          "base_uri": "https://localhost:8080/"
        },
        "id": "QwNqdrLJLubN",
        "outputId": "a81a442e-e9c8-4e6a-a9be-f60d5ca5eb2a"
      },
      "execution_count": null,
      "outputs": [
        {
          "output_type": "stream",
          "name": "stdout",
          "text": [
            "{'Green', 'Purple', 'pigeon', 'Violet', 'sparrow', 'parrot'}\n"
          ]
        }
      ]
    },
    {
      "cell_type": "code",
      "source": [
        "# Add any iterable\n",
        "Birds={\"sparrow\", \"pigeon\", \"parrot\"}\n",
        "Colours={\"Purple\", \"Green\"}\n",
        "Birds.update(Colours)\n",
        "print(Birds)"
      ],
      "metadata": {
        "colab": {
          "base_uri": "https://localhost:8080/"
        },
        "id": "NkR55ChtMnNW",
        "outputId": "ebb7bc48-5f7b-40a1-fd18-65c583c873c9"
      },
      "execution_count": null,
      "outputs": [
        {
          "output_type": "stream",
          "name": "stdout",
          "text": [
            "{'Green', 'Purple', 'pigeon', 'sparrow', 'parrot'}\n"
          ]
        }
      ]
    },
    {
      "cell_type": "code",
      "source": [
        "# Remove items\n",
        "Birds={\"sparrow\", \"pigeon\", \"parrot\"}\n",
        "Birds.remove(\"pigeon\")\n",
        "print(Birds)"
      ],
      "metadata": {
        "colab": {
          "base_uri": "https://localhost:8080/"
        },
        "id": "-MXGPFdANJLk",
        "outputId": "d815256f-4bb5-4b9d-f781-b8d7347fe0d2"
      },
      "execution_count": null,
      "outputs": [
        {
          "output_type": "stream",
          "name": "stdout",
          "text": [
            "{'sparrow', 'parrot'}\n"
          ]
        }
      ]
    },
    {
      "cell_type": "code",
      "source": [
        "# Discard Method\n",
        "Birds={\"sparrow\", \"pigeon\", \"parrot\"}\n",
        "Birds.discard(\"parrot\")\n",
        "print(Birds)"
      ],
      "metadata": {
        "colab": {
          "base_uri": "https://localhost:8080/"
        },
        "id": "OoqTH1L4NYRe",
        "outputId": "c40e0c1f-6ef1-49a7-872c-19cbaf531a36"
      },
      "execution_count": null,
      "outputs": [
        {
          "output_type": "stream",
          "name": "stdout",
          "text": [
            "{'pigeon', 'sparrow'}\n"
          ]
        }
      ]
    },
    {
      "cell_type": "code",
      "source": [
        "# Pop Method\n",
        "Birds={\"sparrow\", \"pigeon\", \"parrot\"}\n",
        "m=Birds.pop()\n",
        "print(m)\n",
        "print(Birds)"
      ],
      "metadata": {
        "colab": {
          "base_uri": "https://localhost:8080/"
        },
        "id": "3muNEa2mNzVR",
        "outputId": "bb0d6114-4713-4e7f-dd9b-8e11920331cd"
      },
      "execution_count": null,
      "outputs": [
        {
          "output_type": "stream",
          "name": "stdout",
          "text": [
            "pigeon\n",
            "{'sparrow', 'parrot'}\n"
          ]
        }
      ]
    },
    {
      "cell_type": "code",
      "source": [
        "# Clear Method\n",
        "Birds={\"sparrow\", \"pigeon\", \"parrot\"}\n",
        "Birds.clear()\n",
        "print(Birds)"
      ],
      "metadata": {
        "colab": {
          "base_uri": "https://localhost:8080/"
        },
        "id": "M7WE69JRONa9",
        "outputId": "13042bea-9761-411f-d3e4-7d5bd22688c9"
      },
      "execution_count": null,
      "outputs": [
        {
          "output_type": "stream",
          "name": "stdout",
          "text": [
            "set()\n"
          ]
        }
      ]
    },
    {
      "cell_type": "code",
      "source": [
        "# Delete Method\n",
        "Birds={\"sparrow\", \"pigeon\", \"parrot\"}\n",
        "del Birds\n",
        "print(Birds) # Error arrises because the set is no longer exists in the list"
      ],
      "metadata": {
        "colab": {
          "base_uri": "https://localhost:8080/",
          "height": 200
        },
        "id": "byI76CDOObu8",
        "outputId": "2b8ad424-173e-4ca6-dba5-8977e1f0add7"
      },
      "execution_count": null,
      "outputs": [
        {
          "output_type": "error",
          "ename": "NameError",
          "evalue": "ignored",
          "traceback": [
            "\u001b[0;31m---------------------------------------------------------------------------\u001b[0m",
            "\u001b[0;31mNameError\u001b[0m                                 Traceback (most recent call last)",
            "\u001b[0;32m<ipython-input-24-5b90f40111b3>\u001b[0m in \u001b[0;36m<module>\u001b[0;34m()\u001b[0m\n\u001b[1;32m      2\u001b[0m \u001b[0mBirds\u001b[0m\u001b[0;34m=\u001b[0m\u001b[0;34m{\u001b[0m\u001b[0;34m\"sparrow\"\u001b[0m\u001b[0;34m,\u001b[0m \u001b[0;34m\"pigeon\"\u001b[0m\u001b[0;34m,\u001b[0m \u001b[0;34m\"parrot\"\u001b[0m\u001b[0;34m}\u001b[0m\u001b[0;34m\u001b[0m\u001b[0;34m\u001b[0m\u001b[0m\n\u001b[1;32m      3\u001b[0m \u001b[0;32mdel\u001b[0m \u001b[0mBirds\u001b[0m\u001b[0;34m\u001b[0m\u001b[0;34m\u001b[0m\u001b[0m\n\u001b[0;32m----> 4\u001b[0;31m \u001b[0mprint\u001b[0m\u001b[0;34m(\u001b[0m\u001b[0mBirds\u001b[0m\u001b[0;34m)\u001b[0m \u001b[0;31m# Error arrises because the set is no longer exists in the list\u001b[0m\u001b[0;34m\u001b[0m\u001b[0;34m\u001b[0m\u001b[0m\n\u001b[0m",
            "\u001b[0;31mNameError\u001b[0m: name 'Birds' is not defined"
          ]
        }
      ]
    },
    {
      "cell_type": "code",
      "source": [
        "# Loop Items (For Loop)\n",
        "Birds={\"sparrow\", \"pigeon\", \"parrot\"}\n",
        "for x in Birds:\n",
        "  print(x)"
      ],
      "metadata": {
        "colab": {
          "base_uri": "https://localhost:8080/"
        },
        "id": "5zL_eZCUO6pO",
        "outputId": "757f4785-c991-4cba-82f0-a2be919b4944"
      },
      "execution_count": 26,
      "outputs": [
        {
          "output_type": "stream",
          "name": "stdout",
          "text": [
            "pigeon\n",
            "sparrow\n",
            "parrot\n"
          ]
        }
      ]
    },
    {
      "cell_type": "code",
      "source": [
        "# Join Sets (Join two sets) (By Union Method)\n",
        "Set1 = {\"10\", \"60\", \"80\", \"90\"}\n",
        "Set2 = {\"a\", \"m\", \"s\", \"n\"}\n",
        "\n",
        "Set3 = Set1.union(Set2)\n",
        "print(Set3)"
      ],
      "metadata": {
        "colab": {
          "base_uri": "https://localhost:8080/"
        },
        "id": "A-Ag-zlcPS7O",
        "outputId": "d787f20e-67f5-4ed4-e320-f18076faf119"
      },
      "execution_count": 28,
      "outputs": [
        {
          "output_type": "stream",
          "name": "stdout",
          "text": [
            "{'m', 's', 'n', '60', '80', 'a', '10', '90'}\n"
          ]
        }
      ]
    },
    {
      "cell_type": "code",
      "source": [
        "# Insert items by update Method\n",
        "Set1 = {\"10\", \"60\", \"80\", \"90\"}\n",
        "Set2 = {\"a\", \"m\", \"s\", \"n\"}\n",
        "\n",
        "Set1.update(Set2)\n",
        "print(Set1)"
      ],
      "metadata": {
        "colab": {
          "base_uri": "https://localhost:8080/"
        },
        "id": "CFsp_jOOQZyk",
        "outputId": "92716e0a-1e03-4167-aa02-11dddb8e0836"
      },
      "execution_count": 30,
      "outputs": [
        {
          "output_type": "stream",
          "name": "stdout",
          "text": [
            "{'m', 's', 'n', '60', '80', 'a', '10', '90'}\n"
          ]
        }
      ]
    },
    {
      "cell_type": "code",
      "source": [
        "# Intersection_update\n",
        "a={\"sparrow\", \"pigeon\", \"parrot\"}\n",
        "b={\"Purple\", \"Green\", \"pigeon\"}\n",
        "a.intersection_update(b)\n",
        "print(a)"
      ],
      "metadata": {
        "colab": {
          "base_uri": "https://localhost:8080/"
        },
        "id": "RZgUau1cQ-AU",
        "outputId": "a2f7949f-9d37-4c77-928a-4d8fd60841a0"
      },
      "execution_count": 35,
      "outputs": [
        {
          "output_type": "stream",
          "name": "stdout",
          "text": [
            "{'pigeon'}\n"
          ]
        }
      ]
    },
    {
      "cell_type": "code",
      "source": [
        "# Intersection() Method\n",
        "a={\"sparrow\", \"pigeon\", \"parrot\"}\n",
        "b={\"Purple\", \"Green\", \"pigeon\"}\n",
        "c=a.intersection(b)\n",
        "print(c)"
      ],
      "metadata": {
        "colab": {
          "base_uri": "https://localhost:8080/"
        },
        "id": "e-NY2xtcRsjd",
        "outputId": "ddd5332d-a812-43e0-e701-c975e603629d"
      },
      "execution_count": 37,
      "outputs": [
        {
          "output_type": "stream",
          "name": "stdout",
          "text": [
            "{'pigeon'}\n"
          ]
        }
      ]
    },
    {
      "cell_type": "code",
      "source": [
        "# Symmetric Difference update\n",
        "a={\"sparrow\", \"pigeon\", \"parrot\"}\n",
        "b={\"Purple\", \"Green\", \"pigeon\"}\n",
        "a.symmetric_difference_update(b)\n",
        "print(a)"
      ],
      "metadata": {
        "colab": {
          "base_uri": "https://localhost:8080/"
        },
        "id": "tmvH01egSRB0",
        "outputId": "9050543d-641c-462f-825f-4a1f956b9a27"
      },
      "execution_count": 40,
      "outputs": [
        {
          "output_type": "stream",
          "name": "stdout",
          "text": [
            "{'Purple', 'sparrow', 'Green', 'parrot'}\n"
          ]
        }
      ]
    },
    {
      "cell_type": "code",
      "source": [
        "# Symmetric Difference \n",
        "a={\"sparrow\", \"pigeon\", \"parrot\"}\n",
        "b={\"Purple\", \"Green\", \"pigeon\"}\n",
        "c=a.symmetric_difference(b)\n",
        "print(c)"
      ],
      "metadata": {
        "colab": {
          "base_uri": "https://localhost:8080/"
        },
        "id": "6XAgpu5OSqds",
        "outputId": "522aa643-d784-4948-e4ff-eecdcbb3c1b2"
      },
      "execution_count": 46,
      "outputs": [
        {
          "output_type": "stream",
          "name": "stdout",
          "text": [
            "{'Purple', 'sparrow', 'Green', 'parrot'}\n"
          ]
        }
      ]
    },
    {
      "cell_type": "code",
      "source": [
        "# Copy Method (Sets Method)\n",
        "Birds={\"sparrow\", \"pigeon\", \"parrot\"}\n",
        "a=Birds.copy()\n",
        "print(a)\n"
      ],
      "metadata": {
        "colab": {
          "base_uri": "https://localhost:8080/"
        },
        "id": "uwCXRJ2DS-od",
        "outputId": "2b6c6377-75fe-43ef-b1d6-b3e409651ae7"
      },
      "execution_count": 45,
      "outputs": [
        {
          "output_type": "stream",
          "name": "stdout",
          "text": [
            "{'pigeon', 'sparrow', 'parrot'}\n"
          ]
        }
      ]
    },
    {
      "cell_type": "code",
      "source": [
        "# Difference() Method (Sets Method)\n",
        "a={\"sparrow\", \"pigeon\", \"parrot\"}\n",
        "b={\"Purple\", \"Green\", \"pigeon\"}\n",
        "c=a.difference(b)\n",
        "print(c)"
      ],
      "metadata": {
        "colab": {
          "base_uri": "https://localhost:8080/"
        },
        "id": "5jSrm9EBT3pj",
        "outputId": "5ad344dd-e91e-4a73-8657-f8fbe3ca808b"
      },
      "execution_count": 48,
      "outputs": [
        {
          "output_type": "stream",
          "name": "stdout",
          "text": [
            "{'sparrow', 'parrot'}\n"
          ]
        }
      ]
    },
    {
      "cell_type": "code",
      "source": [
        "# Difference update\n",
        "a={\"sparrow\", \"pigeon\", \"parrot\"}\n",
        "b={\"Purple\", \"Green\", \"pigeon\"}\n",
        "a.difference_update(b)\n",
        "print(a)"
      ],
      "metadata": {
        "colab": {
          "base_uri": "https://localhost:8080/"
        },
        "id": "tdta5kwWUXBt",
        "outputId": "a89a3109-d2e8-46f5-a420-7822a1787fe9"
      },
      "execution_count": 50,
      "outputs": [
        {
          "output_type": "stream",
          "name": "stdout",
          "text": [
            "{'sparrow', 'parrot'}\n"
          ]
        }
      ]
    },
    {
      "cell_type": "code",
      "source": [
        "# Difference Method\n",
        "a={\"sparrow\", \"pigeon\", \"parrot\"}\n",
        "b={\"Purple\", \"Green\", \"pigeon\"}\n",
        "c=b.difference(a)\n",
        "print(c)"
      ],
      "metadata": {
        "colab": {
          "base_uri": "https://localhost:8080/"
        },
        "id": "pyT5N9wjUc1M",
        "outputId": "b49671be-b33f-46b1-98e3-831711858724"
      },
      "execution_count": 54,
      "outputs": [
        {
          "output_type": "stream",
          "name": "stdout",
          "text": [
            "{'Green', 'Purple'}\n"
          ]
        }
      ]
    },
    {
      "cell_type": "code",
      "source": [
        "# Isdisjoint Method\n",
        "a={\"sparrow\", \"pigeon\", \"parrot\"}\n",
        "b={\"Purple\", \"Green\", \"Violet\"}\n",
        "c=a.isdisjoint(b)\n",
        "print(c)\n"
      ],
      "metadata": {
        "colab": {
          "base_uri": "https://localhost:8080/"
        },
        "id": "F-dqub5QUlw8",
        "outputId": "9daac7a5-2efe-4e73-a020-a45cda6fdf3f"
      },
      "execution_count": 57,
      "outputs": [
        {
          "output_type": "stream",
          "name": "stdout",
          "text": [
            "True\n"
          ]
        }
      ]
    },
    {
      "cell_type": "code",
      "source": [
        "# Issubset Methos(Sets Method)\n",
        "Set1 = {\"10\", \"60\", \"80\", \"90\"}\n",
        "Set2 = {\"a\", \"m\", \"s\", \"n\"}\n",
        "Set3 = Set1.issubset(Set2)\n",
        "print(Set3)"
      ],
      "metadata": {
        "colab": {
          "base_uri": "https://localhost:8080/"
        },
        "id": "mycYfRdzVUFM",
        "outputId": "3039249a-3967-4263-f0c4-3a8dcb6215a0"
      },
      "execution_count": 59,
      "outputs": [
        {
          "output_type": "stream",
          "name": "stdout",
          "text": [
            "False\n"
          ]
        }
      ]
    },
    {
      "cell_type": "code",
      "source": [
        "# Issuperset\n",
        "Set1 = {\"10\", \"60\", \"80\", \"90\"}\n",
        "Set2 = {\"a\", \"m\", \"s\", \"n\", \"p\"}\n",
        "Set3 = Set1.issuperset(Set2)\n",
        "print(Set3)\n"
      ],
      "metadata": {
        "colab": {
          "base_uri": "https://localhost:8080/"
        },
        "id": "dF7xPh0YV6i9",
        "outputId": "e612f9c6-9d4e-4cc4-b7e4-a19058c1fdc1"
      },
      "execution_count": 69,
      "outputs": [
        {
          "output_type": "stream",
          "name": "stdout",
          "text": [
            "False\n"
          ]
        }
      ]
    },
    {
      "cell_type": "code",
      "source": [
        "# Issuperset\n",
        "Set1 = {\"10\", \"60\", \"80\", \"90\", \"a\", \"m\", \"s\", \"n\", \"p\"}\n",
        "Set2 = {\"a\", \"m\", \"s\", \"n\", \"p\"}\n",
        "Set3 = Set1.issuperset(Set2)\n",
        "print(Set3)\n"
      ],
      "metadata": {
        "colab": {
          "base_uri": "https://localhost:8080/"
        },
        "id": "XUXhv6sIW4a9",
        "outputId": "821a5691-e0e6-4117-b622-797724079dd6"
      },
      "execution_count": 70,
      "outputs": [
        {
          "output_type": "stream",
          "name": "stdout",
          "text": [
            "True\n"
          ]
        }
      ]
    }
  ]
}