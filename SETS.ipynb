{
  "nbformat": 4,
  "nbformat_minor": 0,
  "metadata": {
    "colab": {
      "name": "SETS.ipynb",
      "provenance": [],
      "authorship_tag": "ABX9TyNiuHKmYzPpZMRfAdmtaPAC",
      "include_colab_link": true
    },
    "kernelspec": {
      "name": "python3",
      "display_name": "Python 3"
    },
    "language_info": {
      "name": "python"
    }
  },
  "cells": [
    {
      "cell_type": "markdown",
      "metadata": {
        "id": "view-in-github",
        "colab_type": "text"
      },
      "source": [
        "<a href=\"https://colab.research.google.com/github/Manasa890/python/blob/main/SETS.ipynb\" target=\"_parent\"><img src=\"https://colab.research.google.com/assets/colab-badge.svg\" alt=\"Open In Colab\"/></a>"
      ]
    },
    {
      "cell_type": "code",
      "execution_count": 3,
      "metadata": {
        "colab": {
          "base_uri": "https://localhost:8080/"
        },
        "id": "TlmVa-7aBDVl",
        "outputId": "a6eaa820-554c-445a-b19b-fe7db4f5b3a2"
      },
      "outputs": [
        {
          "output_type": "stream",
          "name": "stdout",
          "text": [
            "{'parrot', 'sparrow', 'pigeon'}\n"
          ]
        }
      ],
      "source": [
        "# Create a set\n",
        "Birds={\"sparrow\", \"pigeon\", \"parrot\"}\n",
        "print(Birds)"
      ]
    },
    {
      "cell_type": "code",
      "source": [
        "# Duplicate sets\n",
        "Birds={\"sparrow\", \"pigeon\", \"parrot\", \"sparrow\"}\n",
        "print(Birds)"
      ],
      "metadata": {
        "colab": {
          "base_uri": "https://localhost:8080/"
        },
        "id": "zeWwVTqQCeJP",
        "outputId": "4baf6ff3-59ab-4b08-81e5-8ac10f0a9f49"
      },
      "execution_count": 6,
      "outputs": [
        {
          "output_type": "stream",
          "name": "stdout",
          "text": [
            "{'parrot', 'sparrow', 'pigeon'}\n"
          ]
        }
      ]
    },
    {
      "cell_type": "code",
      "source": [
        "# Length sets\n",
        "Birds={\"sparrow\", \"pigeon\", \"parrot\"}\n",
        "print(len(Birds))"
      ],
      "metadata": {
        "colab": {
          "base_uri": "https://localhost:8080/"
        },
        "id": "HoK_2giFC2W5",
        "outputId": "b1629389-2480-4ec8-dd84-2c688ec4565a"
      },
      "execution_count": 7,
      "outputs": [
        {
          "output_type": "stream",
          "name": "stdout",
          "text": [
            "3\n"
          ]
        }
      ]
    }
  ]
}