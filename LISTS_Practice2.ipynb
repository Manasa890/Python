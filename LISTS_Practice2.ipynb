{
  "nbformat": 4,
  "nbformat_minor": 0,
  "metadata": {
    "colab": {
      "name": "LISTS Practice2.ipynb",
      "provenance": [],
      "authorship_tag": "ABX9TyO8FamJktl4XOpSGqrIapUe",
      "include_colab_link": true
    },
    "kernelspec": {
      "name": "python3",
      "display_name": "Python 3"
    },
    "language_info": {
      "name": "python"
    }
  },
  "cells": [
    {
      "cell_type": "markdown",
      "metadata": {
        "id": "view-in-github",
        "colab_type": "text"
      },
      "source": [
        "<a href=\"https://colab.research.google.com/github/Manasa890/python/blob/main/LISTS_Practice2.ipynb\" target=\"_parent\"><img src=\"https://colab.research.google.com/assets/colab-badge.svg\" alt=\"Open In Colab\"/></a>"
      ]
    },
    {
      "cell_type": "code",
      "execution_count": 3,
      "metadata": {
        "colab": {
          "base_uri": "https://localhost:8080/"
        },
        "id": "Nysw_MuWokef",
        "outputId": "5ab964a5-0457-40c5-cc0f-9267ec8895ad"
      },
      "outputs": [
        {
          "output_type": "stream",
          "name": "stdout",
          "text": [
            "['red', 'maroon', 'purple', 'orange', 'green']\n"
          ]
        }
      ],
      "source": [
        "colours=['red', 'maroon', 'purple', 'orange', 'green']\n",
        "print(colours)"
      ]
    },
    {
      "cell_type": "code",
      "source": [
        "# Access list\n",
        "colours=['red', 'maroon', 'purple', 'orange', 'green']\n",
        "print(colours[2])"
      ],
      "metadata": {
        "colab": {
          "base_uri": "https://localhost:8080/"
        },
        "id": "XwneQSOoo8VK",
        "outputId": "bc95ed0b-a153-46a0-e10a-51e26eb17f5e"
      },
      "execution_count": 6,
      "outputs": [
        {
          "output_type": "stream",
          "name": "stdout",
          "text": [
            "purple\n"
          ]
        }
      ]
    },
    {
      "cell_type": "code",
      "source": [
        "# Negative indexing\n",
        "colours=['red', 'maroon', 'purple', 'orange', 'green']\n",
        "print(colours[-4])"
      ],
      "metadata": {
        "colab": {
          "base_uri": "https://localhost:8080/"
        },
        "id": "PyzhXu4cpWjM",
        "outputId": "d298edbe-3f26-44c8-e8db-cde84df87f8d"
      },
      "execution_count": 10,
      "outputs": [
        {
          "output_type": "stream",
          "name": "stdout",
          "text": [
            "maroon\n"
          ]
        }
      ]
    },
    {
      "cell_type": "code",
      "source": [
        "# Range of Indexes\n",
        "colours=['red', 'maroon', 'purple', 'orange', 'green']\n",
        "print(colours[0:3])"
      ],
      "metadata": {
        "colab": {
          "base_uri": "https://localhost:8080/"
        },
        "id": "Hvt-hSoAp7mo",
        "outputId": "1311ebaf-ed20-4fe2-c290-2588a4740c6c"
      },
      "execution_count": 19,
      "outputs": [
        {
          "output_type": "stream",
          "name": "stdout",
          "text": [
            "['red', 'maroon', 'purple']\n"
          ]
        }
      ]
    },
    {
      "cell_type": "code",
      "source": [
        "# Range of Indexes 2\n",
        "colours=['red', 'maroon', 'purple', 'orange', 'green']\n",
        "print(colours[:3])"
      ],
      "metadata": {
        "colab": {
          "base_uri": "https://localhost:8080/"
        },
        "id": "4ap-5KxNrSju",
        "outputId": "717c710b-6da9-4fae-a173-73ec5b6cfcc4"
      },
      "execution_count": 21,
      "outputs": [
        {
          "output_type": "stream",
          "name": "stdout",
          "text": [
            "['red', 'maroon', 'purple']\n"
          ]
        }
      ]
    },
    {
      "cell_type": "code",
      "source": [
        "# Range of Indexes 3\n",
        "colours=['red', 'maroon', 'purple', 'orange', 'green']\n",
        "print(colours[4:])"
      ],
      "metadata": {
        "colab": {
          "base_uri": "https://localhost:8080/"
        },
        "id": "I_W3jXXCruDA",
        "outputId": "be9a7e27-dff9-4744-cd97-5d6de47ba9e1"
      },
      "execution_count": 24,
      "outputs": [
        {
          "output_type": "stream",
          "name": "stdout",
          "text": [
            "['green']\n"
          ]
        }
      ]
    },
    {
      "cell_type": "code",
      "source": [
        "# Range of  Negative Index\n",
        "colours=['red', 'maroon', 'purple', 'orange', 'green']\n",
        "print(colours[-5:-2])"
      ],
      "metadata": {
        "colab": {
          "base_uri": "https://localhost:8080/"
        },
        "id": "OtIe8PI7svI4",
        "outputId": "191043d3-dcc0-4d69-bf3d-a6ae2a19f1f5"
      },
      "execution_count": 28,
      "outputs": [
        {
          "output_type": "stream",
          "name": "stdout",
          "text": [
            "['red', 'maroon', 'purple']\n"
          ]
        }
      ]
    },
    {
      "cell_type": "code",
      "source": [
        "# Range of  Negative Index\n",
        "colours=['red', 'maroon', 'purple', 'orange', 'green']\n",
        "if \"purple\" in colours:\n",
        "  print(\"Yes, 'purple' is in colours\")"
      ],
      "metadata": {
        "colab": {
          "base_uri": "https://localhost:8080/"
        },
        "id": "H8uZk27auEGJ",
        "outputId": "f13a65cc-6551-4bc7-a4d2-fbf3b1f2597c"
      },
      "execution_count": 31,
      "outputs": [
        {
          "output_type": "stream",
          "name": "stdout",
          "text": [
            "Yes, 'purple' is in colours\n"
          ]
        }
      ]
    },
    {
      "cell_type": "code",
      "source": [
        "# Range of  Negative Index\n",
        "colours=['red', 'maroon', 'purple', 'orange', 'green']\n",
        "if \"purple\" in colours:\n",
        "  print(\"Yes, 'purple' is in colours\")"
      ],
      "metadata": {
        "colab": {
          "base_uri": "https://localhost:8080/"
        },
        "id": "1Pu0xIUhvto9",
        "outputId": "0630a41b-e34c-407e-bc14-7f8a94dbb4f7"
      },
      "execution_count": 34,
      "outputs": [
        {
          "output_type": "stream",
          "name": "stdout",
          "text": [
            "Yes, 'purple' is in colours\n"
          ]
        }
      ]
    },
    {
      "cell_type": "code",
      "source": [
        "# Changing item\n",
        "colours=['red', 'maroon', 'purple', 'orange', 'green']\n",
        "colours[3]='blue'\n",
        "print(colours)"
      ],
      "metadata": {
        "colab": {
          "base_uri": "https://localhost:8080/"
        },
        "id": "eBI0ilaEwYkX",
        "outputId": "574a283e-b102-42cf-cdf7-4310c0d60b23"
      },
      "execution_count": 39,
      "outputs": [
        {
          "output_type": "stream",
          "name": "stdout",
          "text": [
            "['red', 'maroon', 'purple', 'blue', 'green']\n"
          ]
        }
      ]
    },
    {
      "cell_type": "code",
      "source": [
        "# Changing item using range\n",
        "colours=['red', 'maroon', 'purple', 'orange', 'green']\n",
        "colours[0:4]=['blue', 'black']\n",
        "print(colours)"
      ],
      "metadata": {
        "colab": {
          "base_uri": "https://localhost:8080/"
        },
        "id": "czpMpPmTyNF8",
        "outputId": "75087bde-5c9d-4125-9711-8187e7654968"
      },
      "execution_count": 43,
      "outputs": [
        {
          "output_type": "stream",
          "name": "stdout",
          "text": [
            "['blue', 'black', 'green']\n"
          ]
        }
      ]
    },
    {
      "cell_type": "code",
      "source": [
        "# Append\n",
        "colours=['red', 'maroon', 'purple', 'orange', 'green']\n",
        "colours.append('pink')\n",
        "print(colours)"
      ],
      "metadata": {
        "colab": {
          "base_uri": "https://localhost:8080/"
        },
        "id": "MlaV-yaZ09LS",
        "outputId": "72f81f04-4e16-46e9-d6a8-f3b64ae97727"
      },
      "execution_count": 46,
      "outputs": [
        {
          "output_type": "stream",
          "name": "stdout",
          "text": [
            "['red', 'maroon', 'purple', 'orange', 'green', 'pink']\n"
          ]
        }
      ]
    },
    {
      "cell_type": "code",
      "source": [
        "# Insert\n",
        "colours=['red', 'maroon', 'purple', 'orange', 'green']\n",
        "colours.insert(2,'pink')\n",
        "print(colours)"
      ],
      "metadata": {
        "colab": {
          "base_uri": "https://localhost:8080/"
        },
        "id": "6bAIZeSb1kWd",
        "outputId": "80606ad2-0b71-428f-8b01-3b050cc29eb7"
      },
      "execution_count": 48,
      "outputs": [
        {
          "output_type": "stream",
          "name": "stdout",
          "text": [
            "['red', 'maroon', 'pink', 'purple', 'orange', 'green']\n"
          ]
        }
      ]
    },
    {
      "cell_type": "code",
      "source": [
        "# Remove\n",
        "colours=['red', 'maroon', 'purple', 'orange', 'green']\n",
        "colours.remove('red')\n",
        "print(colours)"
      ],
      "metadata": {
        "colab": {
          "base_uri": "https://localhost:8080/"
        },
        "id": "3zyOzcTN1vNb",
        "outputId": "136ff295-4c9b-4d4d-d230-0ae0305c42b0"
      },
      "execution_count": 50,
      "outputs": [
        {
          "output_type": "stream",
          "name": "stdout",
          "text": [
            "['maroon', 'purple', 'orange', 'green']\n"
          ]
        }
      ]
    },
    {
      "cell_type": "code",
      "source": [
        "# Remove 2\n",
        "colours=['red', 'maroon', 'purple', 'orange', 'green']\n",
        "colours.pop(2)\n",
        "print(colours)"
      ],
      "metadata": {
        "colab": {
          "base_uri": "https://localhost:8080/"
        },
        "id": "TfFLTtag2WiE",
        "outputId": "fea56557-52af-4650-9e24-76f7cd937b9f"
      },
      "execution_count": 53,
      "outputs": [
        {
          "output_type": "stream",
          "name": "stdout",
          "text": [
            "['red', 'maroon', 'orange', 'green']\n"
          ]
        }
      ]
    },
    {
      "cell_type": "code",
      "source": [
        "# Remove 3\n",
        "colours=['red', 'maroon', 'purple', 'orange', 'green']\n",
        "colours.pop()\n",
        "print(colours)"
      ],
      "metadata": {
        "colab": {
          "base_uri": "https://localhost:8080/"
        },
        "id": "E33-4JBg2qYa",
        "outputId": "d218be1e-e12b-47ab-ce34-1cc8318161c5"
      },
      "execution_count": 55,
      "outputs": [
        {
          "output_type": "stream",
          "name": "stdout",
          "text": [
            "['red', 'maroon', 'purple', 'orange']\n"
          ]
        }
      ]
    },
    {
      "cell_type": "code",
      "source": [
        "# Clear list\n",
        "colours=['red', 'maroon', 'purple', 'orange', 'green']\n",
        "colours.clear()\n",
        "print(colours)"
      ],
      "metadata": {
        "colab": {
          "base_uri": "https://localhost:8080/"
        },
        "id": "mJmEaUJa22dK",
        "outputId": "4a65e72f-0574-4536-e711-f0c708c0df14"
      },
      "execution_count": 59,
      "outputs": [
        {
          "output_type": "stream",
          "name": "stdout",
          "text": [
            "[]\n"
          ]
        }
      ]
    },
    {
      "cell_type": "code",
      "source": [
        "# Sort list\n",
        "colours=['red', 'maroon', 'purple', 'orange', 'green']\n",
        "colours.sort()\n",
        "print(colours)"
      ],
      "metadata": {
        "colab": {
          "base_uri": "https://localhost:8080/"
        },
        "id": "YN0OxjGR3RN8",
        "outputId": "e5cb1a4c-cdee-47e3-df04-3c62371e2e48"
      },
      "execution_count": 61,
      "outputs": [
        {
          "output_type": "stream",
          "name": "stdout",
          "text": [
            "['green', 'maroon', 'orange', 'purple', 'red']\n"
          ]
        }
      ]
    }
  ]
}