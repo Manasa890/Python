{
  "nbformat": 4,
  "nbformat_minor": 0,
  "metadata": {
    "colab": {
      "name": "Python Dictionaries.ipynb",
      "provenance": [],
      "authorship_tag": "ABX9TyMKHdYdHgFKHUxo0bePIxLz",
      "include_colab_link": true
    },
    "kernelspec": {
      "name": "python3",
      "display_name": "Python 3"
    },
    "language_info": {
      "name": "python"
    }
  },
  "cells": [
    {
      "cell_type": "markdown",
      "metadata": {
        "id": "view-in-github",
        "colab_type": "text"
      },
      "source": [
        "<a href=\"https://colab.research.google.com/github/Manasa890/python/blob/main/Python_Dictionaries.ipynb\" target=\"_parent\"><img src=\"https://colab.research.google.com/assets/colab-badge.svg\" alt=\"Open In Colab\"/></a>"
      ]
    },
    {
      "cell_type": "code",
      "execution_count": 15,
      "metadata": {
        "colab": {
          "base_uri": "https://localhost:8080/"
        },
        "id": "S85CTKU6XR5C",
        "outputId": "fb9071f1-db04-4451-82c7-a6d0f8403aab"
      },
      "outputs": [
        {
          "output_type": "stream",
          "name": "stdout",
          "text": [
            "{'brand': 'nike', 'model': 'Jeans', 'year': 1010}\n"
          ]
        }
      ],
      "source": [
        "# Create and print dictionary\n",
        "thisdict= {\n",
        "  \"brand\": \"nike\",\n",
        "  \"model\": \"Jeans\",\n",
        "  \"year\": 1010\n",
        "}\n",
        "print(thisdict)"
      ]
    },
    {
      "cell_type": "code",
      "source": [
        "# Print brand of this dictionary\n",
        "thisdict= {\n",
        "  \"brand\": \"nike\",\n",
        "  \"model\": \"Jeans\",\n",
        "  \"year\": 1010\n",
        "}\n",
        "print(thisdict[\"model\"])"
      ],
      "metadata": {
        "colab": {
          "base_uri": "https://localhost:8080/"
        },
        "id": "uPtd_Ip4Z1uU",
        "outputId": "fb127bc3-d23e-4019-a8c1-b93b30362bcd"
      },
      "execution_count": 19,
      "outputs": [
        {
          "output_type": "stream",
          "name": "stdout",
          "text": [
            "Jeans\n"
          ]
        }
      ]
    },
    {
      "cell_type": "code",
      "source": [
        "# Duplicates \n",
        "thisdict= {\n",
        "  \"brand\": \"nike\",\n",
        "  \"model\": \"Jeans\",\n",
        "  \"year\": 1010,\n",
        "  \"year\": 2020\n",
        "}\n",
        "print(thisdict)"
      ],
      "metadata": {
        "colab": {
          "base_uri": "https://localhost:8080/"
        },
        "id": "Dp90GKtTaWrN",
        "outputId": "4e1352c7-41d5-43dc-d522-e2a4c321d29e"
      },
      "execution_count": 23,
      "outputs": [
        {
          "output_type": "stream",
          "name": "stdout",
          "text": [
            "{'brand': 'nike', 'model': 'Jeans', 'year': 2020}\n"
          ]
        }
      ]
    },
    {
      "cell_type": "code",
      "source": [
        "# Length of Dictionary\n",
        "thisdict= {\n",
        "  \"brand\": \"nike\",\n",
        "  \"model\": \"Jeans\",\n",
        "  \"year\": 1010\n",
        "}\n",
        "print(len(thisdict))"
      ],
      "metadata": {
        "colab": {
          "base_uri": "https://localhost:8080/"
        },
        "id": "IoxU0ZFVd2z8",
        "outputId": "b5795d68-e95f-40c5-b1ee-c902161be13e"
      },
      "execution_count": 25,
      "outputs": [
        {
          "output_type": "stream",
          "name": "stdout",
          "text": [
            "3\n"
          ]
        }
      ]
    },
    {
      "cell_type": "code",
      "source": [
        "# Data types of int, boolean and list\n",
        "thisdict = {\n",
        "  \"brand\": \"Ford\",\n",
        "  \"electric\": False,\n",
        "  \"year\": 1964,\n",
        "  \"colors\": [\"red\", \"white\", \"blue\"]\n",
        "}\n",
        "\n",
        "print(thisdict)\n"
      ],
      "metadata": {
        "colab": {
          "base_uri": "https://localhost:8080/"
        },
        "id": "RX4XgJf_eJMM",
        "outputId": "79ce9278-dcfc-464b-e546-ebf2a4082caf"
      },
      "execution_count": 30,
      "outputs": [
        {
          "output_type": "stream",
          "name": "stdout",
          "text": [
            "{'brand': 'Ford', 'electric': False, 'year': 1964, 'colors': ['red', 'white', 'blue']}\n"
          ]
        }
      ]
    },
    {
      "cell_type": "code",
      "source": [
        "# Type()\n",
        "thisdict= {\n",
        "  \"brand\": \"nike\",\n",
        "  \"model\": \"Jeans\",\n",
        "  \"year\": 1010\n",
        "}\n",
        "print(type(thisdict))"
      ],
      "metadata": {
        "colab": {
          "base_uri": "https://localhost:8080/"
        },
        "id": "NlArNwNEhghb",
        "outputId": "976c05d9-e7de-4023-ee21-7fb8a3b6e2a9"
      },
      "execution_count": 33,
      "outputs": [
        {
          "output_type": "stream",
          "name": "stdout",
          "text": [
            "<class 'dict'>\n"
          ]
        }
      ]
    },
    {
      "cell_type": "code",
      "source": [
        ""
      ],
      "metadata": {
        "id": "rv4bau6Bh4wr"
      },
      "execution_count": null,
      "outputs": []
    }
  ]
}