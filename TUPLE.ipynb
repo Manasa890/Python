{
  "nbformat": 4,
  "nbformat_minor": 0,
  "metadata": {
    "colab": {
      "name": "TUPLE.ipynb",
      "provenance": [],
      "collapsed_sections": [],
      "authorship_tag": "ABX9TyMKArtyAleU9VUrERbaiKMc",
      "include_colab_link": true
    },
    "kernelspec": {
      "name": "python3",
      "display_name": "Python 3"
    },
    "language_info": {
      "name": "python"
    }
  },
  "cells": [
    {
      "cell_type": "markdown",
      "metadata": {
        "id": "view-in-github",
        "colab_type": "text"
      },
      "source": [
        "<a href=\"https://colab.research.google.com/github/Manasa890/python/blob/main/TUPLE.ipynb\" target=\"_parent\"><img src=\"https://colab.research.google.com/assets/colab-badge.svg\" alt=\"Open In Colab\"/></a>"
      ]
    },
    {
      "cell_type": "code",
      "execution_count": 4,
      "metadata": {
        "id": "q0OhTEYeYsJZ",
        "colab": {
          "base_uri": "https://localhost:8080/"
        },
        "outputId": "0772588a-315a-419b-b34c-a807f64a0257"
      },
      "outputs": [
        {
          "output_type": "stream",
          "name": "stdout",
          "text": [
            "('dog', 'lion', 'tiger')\n"
          ]
        }
      ],
      "source": [
        "# Creating a tuple\n",
        "Animalstuple = (\"dog\", \"lion\", \"tiger\")\n",
        "print(Animalstuple)"
      ]
    },
    {
      "cell_type": "code",
      "source": [
        "# Allow duplicates\n",
        "Animals = (\"dog\", \"lion\", \"tiger\")\n",
        "print(Animals)\n"
      ],
      "metadata": {
        "id": "WUx6it5PbJ_j",
        "colab": {
          "base_uri": "https://localhost:8080/"
        },
        "outputId": "cebf993f-16ce-4e39-a107-3dbaf560c418"
      },
      "execution_count": 6,
      "outputs": [
        {
          "output_type": "stream",
          "name": "stdout",
          "text": [
            "('dog', 'lion', 'tiger')\n"
          ]
        }
      ]
    },
    {
      "cell_type": "code",
      "source": [
        "# Length of a tuple\n",
        "Animals = (\"dog\", \"lion\", \"tiger\")\n",
        "print(len(Animals))\n"
      ],
      "metadata": {
        "colab": {
          "base_uri": "https://localhost:8080/"
        },
        "id": "HWNdKfGPteYf",
        "outputId": "26faf531-a89c-406c-d9f2-291c5662bc21"
      },
      "execution_count": 10,
      "outputs": [
        {
          "output_type": "stream",
          "name": "stdout",
          "text": [
            "3\n"
          ]
        }
      ]
    },
    {
      "cell_type": "code",
      "source": [
        "# Create Tuple With One Item\n",
        "Animals = (\"dog\",)\n",
        "print(type(Animals))\n"
      ],
      "metadata": {
        "colab": {
          "base_uri": "https://localhost:8080/"
        },
        "id": "cPDvRHcbuQzo",
        "outputId": "64c8e54c-2808-41bf-ca1e-6824acfcd289"
      },
      "execution_count": 13,
      "outputs": [
        {
          "output_type": "stream",
          "name": "stdout",
          "text": [
            "<class 'tuple'>\n"
          ]
        }
      ]
    },
    {
      "cell_type": "code",
      "source": [
        "# Create Tuple With One Item 2\n",
        "Animals = (\"dog\")\n",
        "print(type(Animals))\n"
      ],
      "metadata": {
        "colab": {
          "base_uri": "https://localhost:8080/"
        },
        "id": "m3h3EHOsutnn",
        "outputId": "993ab127-c523-421f-dbce-e285057959ef"
      },
      "execution_count": 15,
      "outputs": [
        {
          "output_type": "stream",
          "name": "stdout",
          "text": [
            "<class 'str'>\n"
          ]
        }
      ]
    },
    {
      "cell_type": "code",
      "source": [
        "# Tuple Data types\n",
        "tuple 1= (\"dog\", \"lion\", \"tiger\")\n",
        "tuple 2="
      ],
      "metadata": {
        "id": "BLc_jnTHuzdY"
      },
      "execution_count": null,
      "outputs": []
    }
  ]
}