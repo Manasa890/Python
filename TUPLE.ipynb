{
  "nbformat": 4,
  "nbformat_minor": 0,
  "metadata": {
    "colab": {
      "name": "TUPLE.ipynb",
      "provenance": [],
      "collapsed_sections": [],
      "authorship_tag": "ABX9TyNAEnhmTYSsctioXjrsmpNV",
      "include_colab_link": true
    },
    "kernelspec": {
      "name": "python3",
      "display_name": "Python 3"
    },
    "language_info": {
      "name": "python"
    }
  },
  "cells": [
    {
      "cell_type": "markdown",
      "metadata": {
        "id": "view-in-github",
        "colab_type": "text"
      },
      "source": [
        "<a href=\"https://colab.research.google.com/github/Manasa890/python/blob/main/TUPLE.ipynb\" target=\"_parent\"><img src=\"https://colab.research.google.com/assets/colab-badge.svg\" alt=\"Open In Colab\"/></a>"
      ]
    },
    {
      "cell_type": "code",
      "execution_count": null,
      "metadata": {
        "id": "q0OhTEYeYsJZ",
        "colab": {
          "base_uri": "https://localhost:8080/"
        },
        "outputId": "0772588a-315a-419b-b34c-a807f64a0257"
      },
      "outputs": [
        {
          "output_type": "stream",
          "name": "stdout",
          "text": [
            "('dog', 'lion', 'tiger')\n"
          ]
        }
      ],
      "source": [
        "# Creating a tuple\n",
        "Animalstuple = (\"dog\", \"lion\", \"tiger\")\n",
        "print(Animalstuple)"
      ]
    },
    {
      "cell_type": "code",
      "source": [
        "# Allow duplicates\n",
        "Animals = (\"dog\", \"lion\", \"tiger\")\n",
        "print(Animals)\n"
      ],
      "metadata": {
        "id": "WUx6it5PbJ_j",
        "colab": {
          "base_uri": "https://localhost:8080/"
        },
        "outputId": "cebf993f-16ce-4e39-a107-3dbaf560c418"
      },
      "execution_count": null,
      "outputs": [
        {
          "output_type": "stream",
          "name": "stdout",
          "text": [
            "('dog', 'lion', 'tiger')\n"
          ]
        }
      ]
    },
    {
      "cell_type": "code",
      "source": [
        "# Length of a tuple\n",
        "Animals = (\"dog\", \"lion\", \"tiger\")\n",
        "print(len(Animals))\n"
      ],
      "metadata": {
        "colab": {
          "base_uri": "https://localhost:8080/"
        },
        "id": "HWNdKfGPteYf",
        "outputId": "26faf531-a89c-406c-d9f2-291c5662bc21"
      },
      "execution_count": null,
      "outputs": [
        {
          "output_type": "stream",
          "name": "stdout",
          "text": [
            "3\n"
          ]
        }
      ]
    },
    {
      "cell_type": "code",
      "source": [
        "# Create Tuple With One Item\n",
        "Animals = (\"dog\",)\n",
        "print(type(Animals))\n"
      ],
      "metadata": {
        "colab": {
          "base_uri": "https://localhost:8080/"
        },
        "id": "cPDvRHcbuQzo",
        "outputId": "64c8e54c-2808-41bf-ca1e-6824acfcd289"
      },
      "execution_count": null,
      "outputs": [
        {
          "output_type": "stream",
          "name": "stdout",
          "text": [
            "<class 'tuple'>\n"
          ]
        }
      ]
    },
    {
      "cell_type": "code",
      "source": [
        "# Create Tuple With One Item 2\n",
        "Animals = (\"dog\")\n",
        "print(type(Animals))\n"
      ],
      "metadata": {
        "colab": {
          "base_uri": "https://localhost:8080/"
        },
        "id": "m3h3EHOsutnn",
        "outputId": "993ab127-c523-421f-dbce-e285057959ef"
      },
      "execution_count": null,
      "outputs": [
        {
          "output_type": "stream",
          "name": "stdout",
          "text": [
            "<class 'str'>\n"
          ]
        }
      ]
    },
    {
      "cell_type": "code",
      "source": [
        "# Tuple Data types\n",
        "tuple1= (\"dog\", \"lion\", \"tiger\")\n",
        "tuple2= (1, 5, 7, 9, 3)\n",
        "tuple3 = (True, False, False)"
      ],
      "metadata": {
        "id": "BLc_jnTHuzdY"
      },
      "execution_count": null,
      "outputs": []
    },
    {
      "cell_type": "code",
      "source": [
        "# Type\n",
        "Animalstuple = (\"dog\", \"lion\", \"tiger\")\n",
        "print(type(Animalstuple))"
      ],
      "metadata": {
        "colab": {
          "base_uri": "https://localhost:8080/"
        },
        "id": "zJs1nUVqw2IM",
        "outputId": "0f38eb0e-c032-4d20-e86e-e235820826fd"
      },
      "execution_count": null,
      "outputs": [
        {
          "output_type": "stream",
          "name": "stdout",
          "text": [
            "<class 'tuple'>\n"
          ]
        }
      ]
    },
    {
      "cell_type": "code",
      "source": [
        "# Access Tuple\n",
        "Animals = (\"dog\", \"lion\", \"tiger\")\n",
        "print(Animals[2])"
      ],
      "metadata": {
        "colab": {
          "base_uri": "https://localhost:8080/"
        },
        "id": "OaeJs4pWxQ67",
        "outputId": "9aaa8193-d162-4938-93e3-9afffe14177d"
      },
      "execution_count": null,
      "outputs": [
        {
          "output_type": "stream",
          "name": "stdout",
          "text": [
            "tiger\n"
          ]
        }
      ]
    },
    {
      "cell_type": "code",
      "source": [
        "# Negative Indexing\n",
        "Animalstuple = (\"dog\", \"lion\", \"tiger\")\n",
        "print(Animalstuple[-2])"
      ],
      "metadata": {
        "colab": {
          "base_uri": "https://localhost:8080/"
        },
        "id": "JOMD-wdnxXPK",
        "outputId": "11c5d7a7-c2e9-4e6d-f7ff-0ee5381390ad"
      },
      "execution_count": null,
      "outputs": [
        {
          "output_type": "stream",
          "name": "stdout",
          "text": [
            "lion\n"
          ]
        }
      ]
    },
    {
      "cell_type": "code",
      "source": [
        "# Range of indexes\n",
        "Animalstuple = (\"dog\", \"lion\", \"tiger\", \"peacock\", \"parrot\")\n",
        "print(Animalstuple[1:4])"
      ],
      "metadata": {
        "colab": {
          "base_uri": "https://localhost:8080/"
        },
        "id": "yp7cUOO7xl1q",
        "outputId": "5c4931d4-9014-4298-ccd8-8aebe4acd64a"
      },
      "execution_count": null,
      "outputs": [
        {
          "output_type": "stream",
          "name": "stdout",
          "text": [
            "('lion', 'tiger', 'peacock')\n"
          ]
        }
      ]
    },
    {
      "cell_type": "code",
      "source": [
        "# Range of indexes 1\n",
        "Animalstuple = (\"dog\", \"lion\", \"tiger\", \"peacock\", \"parrot\")\n",
        "print(Animalstuple[:4])"
      ],
      "metadata": {
        "colab": {
          "base_uri": "https://localhost:8080/"
        },
        "id": "AwPbde4LyKgK",
        "outputId": "bbcacc89-f977-41c5-bf80-93f9a667f7b2"
      },
      "execution_count": null,
      "outputs": [
        {
          "output_type": "stream",
          "name": "stdout",
          "text": [
            "('dog', 'lion', 'tiger', 'peacock')\n"
          ]
        }
      ]
    },
    {
      "cell_type": "code",
      "source": [
        "# Range of indexes\n",
        "Animalstuple = (\"dog\", \"lion\", \"tiger\", \"peacock\", \"parrot\")\n",
        "print(Animalstuple[3:])"
      ],
      "metadata": {
        "colab": {
          "base_uri": "https://localhost:8080/"
        },
        "id": "whAcQVEIyXHa",
        "outputId": "8aa3b0e3-6800-4a48-dd1d-2ec1c8c856c8"
      },
      "execution_count": null,
      "outputs": [
        {
          "output_type": "stream",
          "name": "stdout",
          "text": [
            "('peacock', 'parrot')\n"
          ]
        }
      ]
    },
    {
      "cell_type": "code",
      "source": [
        "# Range of negative indexes\n",
        "Animalstuple = (\"dog\", \"lion\", \"tiger\", \"peacock\", \"parrot\")\n",
        "print(Animalstuple[-1:-3])"
      ],
      "metadata": {
        "colab": {
          "base_uri": "https://localhost:8080/"
        },
        "id": "wTOkj3f1yfLr",
        "outputId": "1cb9cacc-2511-4418-aed0-780648b17621"
      },
      "execution_count": null,
      "outputs": [
        {
          "output_type": "stream",
          "name": "stdout",
          "text": [
            "()\n"
          ]
        }
      ]
    },
    {
      "cell_type": "code",
      "source": [
        "# Check if the item exista or not\n",
        "Animals = (\"dog\", \"lion\", \"tiger\", \"peacock\", \"parrot\")\n",
        "if \"lion\" in Animals:\n",
        "  print(\"Yes 'lion' is in the Animals tuple\")"
      ],
      "metadata": {
        "colab": {
          "base_uri": "https://localhost:8080/"
        },
        "id": "hOS63v85ymkb",
        "outputId": "2abeb349-2542-4696-d041-0927f5ab5949"
      },
      "execution_count": null,
      "outputs": [
        {
          "output_type": "stream",
          "name": "stdout",
          "text": [
            "Yes 'lion' is in the Animals tuple\n"
          ]
        }
      ]
    },
    {
      "cell_type": "code",
      "source": [
        "# Update tuples\n",
        "m=(\"dog\", \"lion\", \"tiger\")\n",
        "n=list(m)\n",
        "n[2]=\"Cat\"\n",
        "m=tuple(n)\n",
        "print(m)"
      ],
      "metadata": {
        "colab": {
          "base_uri": "https://localhost:8080/"
        },
        "id": "hBa9zre_zXI7",
        "outputId": "8d08f3e6-8013-4f76-a51e-ebed0a4fa088"
      },
      "execution_count": null,
      "outputs": [
        {
          "output_type": "stream",
          "name": "stdout",
          "text": [
            "('dog', 'lion', 'Cat')\n"
          ]
        }
      ]
    },
    {
      "cell_type": "code",
      "source": [
        "# Add tuple (Convert into list)\n",
        "Animals = (\"dog\", \"lion\", \"tiger\")\n",
        "m=list(Animals)\n",
        "m.append(\"Cow\")\n",
        "Animals=tuple(m)\n",
        "print(Animals)\n"
      ],
      "metadata": {
        "colab": {
          "base_uri": "https://localhost:8080/"
        },
        "id": "_L7kOr790Adg",
        "outputId": "f35c7c77-5e87-4386-89dd-4c12835c6fae"
      },
      "execution_count": null,
      "outputs": [
        {
          "output_type": "stream",
          "name": "stdout",
          "text": [
            "('dog', 'lion', 'tiger', 'Cow')\n"
          ]
        }
      ]
    },
    {
      "cell_type": "code",
      "source": [
        "# Add tuple to tuple\n",
        "Animals = (\"dog\", \"lion\", \"tiger\")\n",
        "m=(\"monkey\",)\n",
        "Animals+=m\n",
        "print(Animals)"
      ],
      "metadata": {
        "colab": {
          "base_uri": "https://localhost:8080/"
        },
        "id": "Z8BMe2rS08aK",
        "outputId": "c6f3c634-c1ef-4a57-abfe-9f2876ca8c96"
      },
      "execution_count": null,
      "outputs": [
        {
          "output_type": "stream",
          "name": "stdout",
          "text": [
            "('dog', 'lion', 'tiger', 'monkey')\n"
          ]
        }
      ]
    },
    {
      "cell_type": "code",
      "source": [
        "# Remove items\n",
        "Animals = (\"dog\", \"lion\", \"tiger\")\n",
        "m=list(Animals)\n",
        "m.remove(\"lion\")\n",
        "Animals=tuple(m)\n",
        "print(Animals)"
      ],
      "metadata": {
        "colab": {
          "base_uri": "https://localhost:8080/"
        },
        "id": "7AmN5GiI2HuZ",
        "outputId": "92260f49-278c-4ecc-c8b0-8649aebda6ff"
      },
      "execution_count": null,
      "outputs": [
        {
          "output_type": "stream",
          "name": "stdout",
          "text": [
            "('dog', 'tiger')\n"
          ]
        }
      ]
    },
    {
      "cell_type": "code",
      "source": [
        "# Unpacking a Tuple\n",
        "Animals = (\"dog\", \"lion\", \"tiger\")\n",
        "(pink, violet, green)=Animals\n",
        "print(pink)\n",
        "print(violet)\n",
        "print(green)\n"
      ],
      "metadata": {
        "colab": {
          "base_uri": "https://localhost:8080/"
        },
        "id": "ezwo70_h3L_5",
        "outputId": "54696aa8-e1f6-4723-c740-ceff00aae2c6"
      },
      "execution_count": null,
      "outputs": [
        {
          "output_type": "stream",
          "name": "stdout",
          "text": [
            "dog\n",
            "lion\n",
            "tiger\n"
          ]
        }
      ]
    },
    {
      "cell_type": "code",
      "source": [
        "# Unpacking using Asterisk\n",
        "Animals = (\"dog\", \"lion\", \"tiger\", \"peacock\", \"parrot\")\n",
        "\n",
        "(pink, violet, *green)=Animals\n",
        "\n",
        "print(pink)\n",
        "print(violet)\n",
        "print(green)"
      ],
      "metadata": {
        "colab": {
          "base_uri": "https://localhost:8080/"
        },
        "id": "jGlUZF8j4Uef",
        "outputId": "b502d659-44d5-4543-c69d-1d841dcb30ef"
      },
      "execution_count": null,
      "outputs": [
        {
          "output_type": "stream",
          "name": "stdout",
          "text": [
            "dog\n",
            "lion\n",
            "['tiger', 'peacock', 'parrot']\n"
          ]
        }
      ]
    },
    {
      "cell_type": "code",
      "source": [
        "# Unpacking a tropic varible\n",
        "Animals = (\"dog\", \"lion\", \"tiger\", \"peacock\", \"parrot\")\n",
        "\n",
        "(pink, *tropic, violet)=Animals\n",
        "\n",
        "print(pink)\n",
        "print(tropic)\n",
        "print(violet)\n"
      ],
      "metadata": {
        "colab": {
          "base_uri": "https://localhost:8080/"
        },
        "id": "ccDZJwhi6LEn",
        "outputId": "445029f7-cb5b-4116-a0d8-a71357b40e86"
      },
      "execution_count": null,
      "outputs": [
        {
          "output_type": "stream",
          "name": "stdout",
          "text": [
            "dog\n",
            "['lion', 'tiger', 'peacock']\n",
            "parrot\n"
          ]
        }
      ]
    },
    {
      "cell_type": "code",
      "source": [
        "# For Loop through a tuple\n",
        "Animals = (\"dog\", \"lion\", \"tiger\", \"peacock\", \"parrot\")\n",
        "for i in Animals:\n",
        "  print(i)"
      ],
      "metadata": {
        "colab": {
          "base_uri": "https://localhost:8080/"
        },
        "id": "fsSUlkdR8LtH",
        "outputId": "34d70bf3-8afa-4eb6-b090-05b1ed5dc216"
      },
      "execution_count": 82,
      "outputs": [
        {
          "output_type": "stream",
          "name": "stdout",
          "text": [
            "dog\n",
            "lion\n",
            "tiger\n",
            "peacock\n",
            "parrot\n"
          ]
        }
      ]
    },
    {
      "cell_type": "code",
      "source": [
        "# Loop through index numbers\n",
        "Animals = (\"dog\", \"lion\", \"tiger\", \"peacock\", \"parrot\")\n",
        "for i in range(len(Animals)):\n",
        "  print(Animals[i])"
      ],
      "metadata": {
        "colab": {
          "base_uri": "https://localhost:8080/"
        },
        "id": "JEFS4qk794aE",
        "outputId": "f5590a18-e46a-46e5-dc5a-37cdcf559300"
      },
      "execution_count": 85,
      "outputs": [
        {
          "output_type": "stream",
          "name": "stdout",
          "text": [
            "dog\n",
            "lion\n",
            "tiger\n",
            "peacock\n",
            "parrot\n"
          ]
        }
      ]
    },
    {
      "cell_type": "code",
      "source": [
        "# While Loop through a tuple\n",
        "Animals = (\"dog\", \"lion\", \"tiger\", \"peacock\", \"parrot\")\n",
        "i=0\n",
        "while i<len(Animals):\n",
        "  print(Animals[i])\n",
        "  i=i+1\n"
      ],
      "metadata": {
        "colab": {
          "base_uri": "https://localhost:8080/"
        },
        "id": "qURBqkyQ_DeS",
        "outputId": "eeaba2dc-8fef-42bd-96a4-fd644f42e5ba"
      },
      "execution_count": 88,
      "outputs": [
        {
          "output_type": "stream",
          "name": "stdout",
          "text": [
            "dog\n",
            "lion\n",
            "tiger\n",
            "peacock\n",
            "parrot\n"
          ]
        }
      ]
    },
    {
      "cell_type": "code",
      "source": [
        "# Join Two Tuples\n",
        "tuple1 =  (\"dog\", \"lion\", \"tiger\")\n",
        "tuple2 = (1, 2, 3)\n",
        "\n",
        "tuple3 = tuple1 + tuple2\n",
        "print(tuple3)"
      ],
      "metadata": {
        "colab": {
          "base_uri": "https://localhost:8080/"
        },
        "id": "hLa8IJEF_2TR",
        "outputId": "26095fb3-c29e-4b86-dc28-ea16c248934b"
      },
      "execution_count": 90,
      "outputs": [
        {
          "output_type": "stream",
          "name": "stdout",
          "text": [
            "('dog', 'lion', 'tiger', 1, 2, 3)\n"
          ]
        }
      ]
    },
    {
      "cell_type": "code",
      "source": [
        "# Multiply Tuple\n",
        "Animals = (\"dog\", \"lion\", \"tiger\", \"peacock\", \"parrot\")\n",
        "mytuple=Animals*2\n",
        "print(mytuple)"
      ],
      "metadata": {
        "colab": {
          "base_uri": "https://localhost:8080/"
        },
        "id": "ltsj6tgDASvQ",
        "outputId": "eb809596-97bf-4588-c1a0-8ed79fe0e100"
      },
      "execution_count": 93,
      "outputs": [
        {
          "output_type": "stream",
          "name": "stdout",
          "text": [
            "('dog', 'lion', 'tiger', 'peacock', 'parrot', 'dog', 'lion', 'tiger', 'peacock', 'parrot')\n"
          ]
        }
      ]
    },
    {
      "cell_type": "code",
      "source": [
        "# Tuple Method (count)\n",
        "Animals = (3, 5, 7, 8, 1, 9 ,4)\n",
        "m= Animals.count(5)\n",
        "print(m)\n"
      ],
      "metadata": {
        "colab": {
          "base_uri": "https://localhost:8080/"
        },
        "id": "qr8z56MfAtVJ",
        "outputId": "5783ee31-ba0f-4dda-a426-1022e17063a6"
      },
      "execution_count": 95,
      "outputs": [
        {
          "output_type": "stream",
          "name": "stdout",
          "text": [
            "1\n"
          ]
        }
      ]
    },
    {
      "cell_type": "code",
      "source": [
        "#  Tuple Method (index)\n",
        "Animals = (3, 5, 7, 8, 1, 9 ,4)\n",
        "m= Animals.index(1)\n",
        "print(m)\n"
      ],
      "metadata": {
        "colab": {
          "base_uri": "https://localhost:8080/"
        },
        "id": "oLzdDd2aBuJa",
        "outputId": "384ea7ed-939f-410d-a21a-267f4b5f270d"
      },
      "execution_count": 98,
      "outputs": [
        {
          "output_type": "stream",
          "name": "stdout",
          "text": [
            "4\n"
          ]
        }
      ]
    }
  ]
}